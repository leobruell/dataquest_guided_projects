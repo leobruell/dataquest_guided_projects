{
 "cells": [
  {
   "cell_type": "markdown",
   "id": "7a8e6481",
   "metadata": {},
   "source": [
    "# Guided Project: Winning Jeopardy "
   ]
  },
  {
   "cell_type": "markdown",
   "id": "cd56860d",
   "metadata": {},
   "source": [
    "The goal of this guided project is to explore data from Jeopardy questions. "
   ]
  },
  {
   "cell_type": "code",
   "execution_count": 178,
   "id": "71bd99dd",
   "metadata": {},
   "outputs": [],
   "source": [
    "import pandas as pd"
   ]
  },
  {
   "cell_type": "code",
   "execution_count": 179,
   "id": "a0539f77",
   "metadata": {},
   "outputs": [],
   "source": [
    "import re"
   ]
  },
  {
   "cell_type": "markdown",
   "id": "37065a77",
   "metadata": {},
   "source": [
    "## Exploring the Data"
   ]
  },
  {
   "cell_type": "code",
   "execution_count": 180,
   "id": "fc82cacf",
   "metadata": {},
   "outputs": [],
   "source": [
    "questions = pd.read_csv('Datasets/jeopardy.csv')"
   ]
  },
  {
   "cell_type": "code",
   "execution_count": 181,
   "id": "d7331188",
   "metadata": {},
   "outputs": [
    {
     "data": {
      "text/html": [
       "<div>\n",
       "<style scoped>\n",
       "    .dataframe tbody tr th:only-of-type {\n",
       "        vertical-align: middle;\n",
       "    }\n",
       "\n",
       "    .dataframe tbody tr th {\n",
       "        vertical-align: top;\n",
       "    }\n",
       "\n",
       "    .dataframe thead th {\n",
       "        text-align: right;\n",
       "    }\n",
       "</style>\n",
       "<table border=\"1\" class=\"dataframe\">\n",
       "  <thead>\n",
       "    <tr style=\"text-align: right;\">\n",
       "      <th></th>\n",
       "      <th>Show Number</th>\n",
       "      <th>Air Date</th>\n",
       "      <th>Round</th>\n",
       "      <th>Category</th>\n",
       "      <th>Value</th>\n",
       "      <th>Question</th>\n",
       "      <th>Answer</th>\n",
       "    </tr>\n",
       "  </thead>\n",
       "  <tbody>\n",
       "    <tr>\n",
       "      <th>0</th>\n",
       "      <td>4680</td>\n",
       "      <td>2004-12-31</td>\n",
       "      <td>Jeopardy!</td>\n",
       "      <td>HISTORY</td>\n",
       "      <td>$200</td>\n",
       "      <td>For the last 8 years of his life, Galileo was ...</td>\n",
       "      <td>Copernicus</td>\n",
       "    </tr>\n",
       "    <tr>\n",
       "      <th>1</th>\n",
       "      <td>4680</td>\n",
       "      <td>2004-12-31</td>\n",
       "      <td>Jeopardy!</td>\n",
       "      <td>ESPN's TOP 10 ALL-TIME ATHLETES</td>\n",
       "      <td>$200</td>\n",
       "      <td>No. 2: 1912 Olympian; football star at Carlisl...</td>\n",
       "      <td>Jim Thorpe</td>\n",
       "    </tr>\n",
       "    <tr>\n",
       "      <th>2</th>\n",
       "      <td>4680</td>\n",
       "      <td>2004-12-31</td>\n",
       "      <td>Jeopardy!</td>\n",
       "      <td>EVERYBODY TALKS ABOUT IT...</td>\n",
       "      <td>$200</td>\n",
       "      <td>The city of Yuma in this state has a record av...</td>\n",
       "      <td>Arizona</td>\n",
       "    </tr>\n",
       "    <tr>\n",
       "      <th>3</th>\n",
       "      <td>4680</td>\n",
       "      <td>2004-12-31</td>\n",
       "      <td>Jeopardy!</td>\n",
       "      <td>THE COMPANY LINE</td>\n",
       "      <td>$200</td>\n",
       "      <td>In 1963, live on \"The Art Linkletter Show\", th...</td>\n",
       "      <td>McDonald's</td>\n",
       "    </tr>\n",
       "    <tr>\n",
       "      <th>4</th>\n",
       "      <td>4680</td>\n",
       "      <td>2004-12-31</td>\n",
       "      <td>Jeopardy!</td>\n",
       "      <td>EPITAPHS &amp; TRIBUTES</td>\n",
       "      <td>$200</td>\n",
       "      <td>Signer of the Dec. of Indep., framer of the Co...</td>\n",
       "      <td>John Adams</td>\n",
       "    </tr>\n",
       "  </tbody>\n",
       "</table>\n",
       "</div>"
      ],
      "text/plain": [
       "   Show Number    Air Date      Round                         Category  Value  \\\n",
       "0         4680  2004-12-31  Jeopardy!                          HISTORY   $200   \n",
       "1         4680  2004-12-31  Jeopardy!  ESPN's TOP 10 ALL-TIME ATHLETES   $200   \n",
       "2         4680  2004-12-31  Jeopardy!      EVERYBODY TALKS ABOUT IT...   $200   \n",
       "3         4680  2004-12-31  Jeopardy!                 THE COMPANY LINE   $200   \n",
       "4         4680  2004-12-31  Jeopardy!              EPITAPHS & TRIBUTES   $200   \n",
       "\n",
       "                                            Question      Answer  \n",
       "0  For the last 8 years of his life, Galileo was ...  Copernicus  \n",
       "1  No. 2: 1912 Olympian; football star at Carlisl...  Jim Thorpe  \n",
       "2  The city of Yuma in this state has a record av...     Arizona  \n",
       "3  In 1963, live on \"The Art Linkletter Show\", th...  McDonald's  \n",
       "4  Signer of the Dec. of Indep., framer of the Co...  John Adams  "
      ]
     },
     "execution_count": 181,
     "metadata": {},
     "output_type": "execute_result"
    }
   ],
   "source": [
    "questions.head()"
   ]
  },
  {
   "cell_type": "code",
   "execution_count": 182,
   "id": "5638f2e5",
   "metadata": {},
   "outputs": [
    {
     "name": "stdout",
     "output_type": "stream",
     "text": [
      "<class 'pandas.core.frame.DataFrame'>\n",
      "RangeIndex: 19999 entries, 0 to 19998\n",
      "Data columns (total 7 columns):\n",
      " #   Column       Non-Null Count  Dtype \n",
      "---  ------       --------------  ----- \n",
      " 0   Show Number  19999 non-null  int64 \n",
      " 1    Air Date    19999 non-null  object\n",
      " 2    Round       19999 non-null  object\n",
      " 3    Category    19999 non-null  object\n",
      " 4    Value       19999 non-null  object\n",
      " 5    Question    19999 non-null  object\n",
      " 6    Answer      19999 non-null  object\n",
      "dtypes: int64(1), object(6)\n",
      "memory usage: 1.1+ MB\n"
     ]
    }
   ],
   "source": [
    "questions.info()"
   ]
  },
  {
   "cell_type": "code",
   "execution_count": 183,
   "id": "ed5fb29f",
   "metadata": {},
   "outputs": [
    {
     "data": {
      "text/plain": [
       "(19999, 7)"
      ]
     },
     "execution_count": 183,
     "metadata": {},
     "output_type": "execute_result"
    }
   ],
   "source": [
    "questions.shape"
   ]
  },
  {
   "cell_type": "markdown",
   "id": "063c7aac",
   "metadata": {},
   "source": [
    "## Cleaning the Data"
   ]
  },
  {
   "cell_type": "code",
   "execution_count": 184,
   "id": "71435a0e",
   "metadata": {},
   "outputs": [
    {
     "data": {
      "text/plain": [
       "Index(['Show Number', ' Air Date', ' Round', ' Category', ' Value',\n",
       "       ' Question', ' Answer'],\n",
       "      dtype='object')"
      ]
     },
     "execution_count": 184,
     "metadata": {},
     "output_type": "execute_result"
    }
   ],
   "source": [
    "questions.columns"
   ]
  },
  {
   "cell_type": "code",
   "execution_count": 185,
   "id": "534e6992",
   "metadata": {},
   "outputs": [],
   "source": [
    "questions.columns = questions.columns.str.strip().str.lower().str.replace(' ','_')"
   ]
  },
  {
   "cell_type": "code",
   "execution_count": 186,
   "id": "569d4051",
   "metadata": {},
   "outputs": [
    {
     "data": {
      "text/plain": [
       "Index(['show_number', 'air_date', 'round', 'category', 'value', 'question',\n",
       "       'answer'],\n",
       "      dtype='object')"
      ]
     },
     "execution_count": 186,
     "metadata": {},
     "output_type": "execute_result"
    }
   ],
   "source": [
    "questions.columns"
   ]
  },
  {
   "cell_type": "code",
   "execution_count": 187,
   "id": "67a40fdd",
   "metadata": {},
   "outputs": [],
   "source": [
    "def normalize(words):\n",
    "    words = words.lower()\n",
    "    words = re.sub(\"\\W\",\" \", words)\n",
    "    return words"
   ]
  },
  {
   "cell_type": "code",
   "execution_count": 188,
   "id": "54eea027",
   "metadata": {},
   "outputs": [],
   "source": [
    "questions['clean_answer'] = questions['answer'].apply(normalize)"
   ]
  },
  {
   "cell_type": "code",
   "execution_count": 189,
   "id": "936b8e3b",
   "metadata": {},
   "outputs": [],
   "source": [
    "questions['clean_question'] = questions['question'].apply(normalize)"
   ]
  },
  {
   "cell_type": "code",
   "execution_count": 190,
   "id": "c83f4dea",
   "metadata": {},
   "outputs": [],
   "source": [
    "def normalize_money(val):\n",
    "    val = re.sub(\"\\W\",\"\", val)\n",
    "    val = re.sub(\"[A-Za-z]\", \"-\", val)\n",
    "    if '-' in val:\n",
    "        return 0\n",
    "    else:\n",
    "        return int(val)"
   ]
  },
  {
   "cell_type": "code",
   "execution_count": 191,
   "id": "54d77c48",
   "metadata": {},
   "outputs": [],
   "source": [
    "questions['clean_value'] = questions['value'].apply(normalize_money)"
   ]
  },
  {
   "cell_type": "code",
   "execution_count": 192,
   "id": "0442a2db",
   "metadata": {},
   "outputs": [],
   "source": [
    "questions['air_date'] = pd.to_datetime(questions['air_date'])"
   ]
  },
  {
   "cell_type": "code",
   "execution_count": 193,
   "id": "3716985a",
   "metadata": {},
   "outputs": [
    {
     "data": {
      "text/html": [
       "<div>\n",
       "<style scoped>\n",
       "    .dataframe tbody tr th:only-of-type {\n",
       "        vertical-align: middle;\n",
       "    }\n",
       "\n",
       "    .dataframe tbody tr th {\n",
       "        vertical-align: top;\n",
       "    }\n",
       "\n",
       "    .dataframe thead th {\n",
       "        text-align: right;\n",
       "    }\n",
       "</style>\n",
       "<table border=\"1\" class=\"dataframe\">\n",
       "  <thead>\n",
       "    <tr style=\"text-align: right;\">\n",
       "      <th></th>\n",
       "      <th>show_number</th>\n",
       "      <th>air_date</th>\n",
       "      <th>round</th>\n",
       "      <th>category</th>\n",
       "      <th>value</th>\n",
       "      <th>question</th>\n",
       "      <th>answer</th>\n",
       "      <th>clean_answer</th>\n",
       "      <th>clean_question</th>\n",
       "      <th>clean_value</th>\n",
       "    </tr>\n",
       "  </thead>\n",
       "  <tbody>\n",
       "    <tr>\n",
       "      <th>0</th>\n",
       "      <td>4680</td>\n",
       "      <td>2004-12-31</td>\n",
       "      <td>Jeopardy!</td>\n",
       "      <td>HISTORY</td>\n",
       "      <td>$200</td>\n",
       "      <td>For the last 8 years of his life, Galileo was ...</td>\n",
       "      <td>Copernicus</td>\n",
       "      <td>copernicus</td>\n",
       "      <td>for the last 8 years of his life  galileo was ...</td>\n",
       "      <td>200</td>\n",
       "    </tr>\n",
       "    <tr>\n",
       "      <th>1</th>\n",
       "      <td>4680</td>\n",
       "      <td>2004-12-31</td>\n",
       "      <td>Jeopardy!</td>\n",
       "      <td>ESPN's TOP 10 ALL-TIME ATHLETES</td>\n",
       "      <td>$200</td>\n",
       "      <td>No. 2: 1912 Olympian; football star at Carlisl...</td>\n",
       "      <td>Jim Thorpe</td>\n",
       "      <td>jim thorpe</td>\n",
       "      <td>no  2  1912 olympian  football star at carlisl...</td>\n",
       "      <td>200</td>\n",
       "    </tr>\n",
       "    <tr>\n",
       "      <th>2</th>\n",
       "      <td>4680</td>\n",
       "      <td>2004-12-31</td>\n",
       "      <td>Jeopardy!</td>\n",
       "      <td>EVERYBODY TALKS ABOUT IT...</td>\n",
       "      <td>$200</td>\n",
       "      <td>The city of Yuma in this state has a record av...</td>\n",
       "      <td>Arizona</td>\n",
       "      <td>arizona</td>\n",
       "      <td>the city of yuma in this state has a record av...</td>\n",
       "      <td>200</td>\n",
       "    </tr>\n",
       "    <tr>\n",
       "      <th>3</th>\n",
       "      <td>4680</td>\n",
       "      <td>2004-12-31</td>\n",
       "      <td>Jeopardy!</td>\n",
       "      <td>THE COMPANY LINE</td>\n",
       "      <td>$200</td>\n",
       "      <td>In 1963, live on \"The Art Linkletter Show\", th...</td>\n",
       "      <td>McDonald's</td>\n",
       "      <td>mcdonald s</td>\n",
       "      <td>in 1963  live on  the art linkletter show   th...</td>\n",
       "      <td>200</td>\n",
       "    </tr>\n",
       "    <tr>\n",
       "      <th>4</th>\n",
       "      <td>4680</td>\n",
       "      <td>2004-12-31</td>\n",
       "      <td>Jeopardy!</td>\n",
       "      <td>EPITAPHS &amp; TRIBUTES</td>\n",
       "      <td>$200</td>\n",
       "      <td>Signer of the Dec. of Indep., framer of the Co...</td>\n",
       "      <td>John Adams</td>\n",
       "      <td>john adams</td>\n",
       "      <td>signer of the dec  of indep   framer of the co...</td>\n",
       "      <td>200</td>\n",
       "    </tr>\n",
       "  </tbody>\n",
       "</table>\n",
       "</div>"
      ],
      "text/plain": [
       "   show_number   air_date      round                         category value  \\\n",
       "0         4680 2004-12-31  Jeopardy!                          HISTORY  $200   \n",
       "1         4680 2004-12-31  Jeopardy!  ESPN's TOP 10 ALL-TIME ATHLETES  $200   \n",
       "2         4680 2004-12-31  Jeopardy!      EVERYBODY TALKS ABOUT IT...  $200   \n",
       "3         4680 2004-12-31  Jeopardy!                 THE COMPANY LINE  $200   \n",
       "4         4680 2004-12-31  Jeopardy!              EPITAPHS & TRIBUTES  $200   \n",
       "\n",
       "                                            question      answer clean_answer  \\\n",
       "0  For the last 8 years of his life, Galileo was ...  Copernicus   copernicus   \n",
       "1  No. 2: 1912 Olympian; football star at Carlisl...  Jim Thorpe   jim thorpe   \n",
       "2  The city of Yuma in this state has a record av...     Arizona      arizona   \n",
       "3  In 1963, live on \"The Art Linkletter Show\", th...  McDonald's   mcdonald s   \n",
       "4  Signer of the Dec. of Indep., framer of the Co...  John Adams   john adams   \n",
       "\n",
       "                                      clean_question  clean_value  \n",
       "0  for the last 8 years of his life  galileo was ...          200  \n",
       "1  no  2  1912 olympian  football star at carlisl...          200  \n",
       "2  the city of yuma in this state has a record av...          200  \n",
       "3  in 1963  live on  the art linkletter show   th...          200  \n",
       "4  signer of the dec  of indep   framer of the co...          200  "
      ]
     },
     "execution_count": 193,
     "metadata": {},
     "output_type": "execute_result"
    }
   ],
   "source": [
    "questions.head()"
   ]
  },
  {
   "cell_type": "code",
   "execution_count": null,
   "id": "e53e4595",
   "metadata": {},
   "outputs": [],
   "source": []
  },
  {
   "cell_type": "code",
   "execution_count": 194,
   "id": "ad29ce00",
   "metadata": {},
   "outputs": [],
   "source": [
    "def matcher(row):\n",
    "    split_answer = row['clean_answer'].split()\n",
    "    split_question = row['clean_question'].split()\n",
    "    match_count = 0 \n",
    "    if 'the' in split_answer:\n",
    "        split_answer.remove('the')\n",
    "    if len(split_answer) == 0:\n",
    "        return 0 \n",
    "    for word in split_answer:\n",
    "        if word in split_question:\n",
    "            match_count += 1\n",
    "    return match_count / len(split_answer)"
   ]
  },
  {
   "cell_type": "code",
   "execution_count": 195,
   "id": "4dc2edcf",
   "metadata": {},
   "outputs": [],
   "source": [
    "questions['answer_in_question'] = questions.apply(matcher, axis=1)"
   ]
  },
  {
   "cell_type": "code",
   "execution_count": 196,
   "id": "09108f00",
   "metadata": {},
   "outputs": [
    {
     "data": {
      "text/plain": [
       "0.06294645581984942"
      ]
     },
     "execution_count": 196,
     "metadata": {},
     "output_type": "execute_result"
    }
   ],
   "source": [
    "questions['answer_in_question'].mean()"
   ]
  },
  {
   "cell_type": "markdown",
   "id": "1fde7cd2",
   "metadata": {},
   "source": [
    "Here, we see that words in the question occur in the answer about 6% of the time. Consequently, it would be difficult to just guess the answer based on the question. "
   ]
  },
  {
   "cell_type": "markdown",
   "id": "0d05ff03",
   "metadata": {},
   "source": [
    "## Investigating Question Repeats"
   ]
  },
  {
   "cell_type": "code",
   "execution_count": 197,
   "id": "5b1a1e44",
   "metadata": {},
   "outputs": [],
   "source": [
    "question_overlap = []\n",
    "terms_used = set()"
   ]
  },
  {
   "cell_type": "code",
   "execution_count": 198,
   "id": "325f863e",
   "metadata": {},
   "outputs": [],
   "source": [
    "questions = questions.sort_values('air_date')"
   ]
  },
  {
   "cell_type": "code",
   "execution_count": 199,
   "id": "84855730",
   "metadata": {},
   "outputs": [],
   "source": [
    "for index, row in questions.iterrows(): \n",
    "    split_question = row['clean_question'].split()\n",
    "    split_question = [word for word in split_question if len(word) > 5]\n",
    "    match_count = 0 \n",
    "    for word in split_question:\n",
    "        if word in terms_used:\n",
    "            match_count += 1\n",
    "    for word in split_question:\n",
    "        terms_used.add(word)\n",
    "    if len(split_question) > 0:\n",
    "        match_count = match_count / len(split_question)\n",
    "    question_overlap.append(match_count)"
   ]
  },
  {
   "cell_type": "code",
   "execution_count": 200,
   "id": "b6979368",
   "metadata": {},
   "outputs": [],
   "source": [
    "questions['question_overlap'] = question_overlap"
   ]
  },
  {
   "cell_type": "code",
   "execution_count": 201,
   "id": "310da601",
   "metadata": {},
   "outputs": [
    {
     "data": {
      "text/plain": [
       "0.7197989717809659"
      ]
     },
     "execution_count": 201,
     "metadata": {},
     "output_type": "execute_result"
    }
   ],
   "source": [
    "questions['question_overlap'].mean()"
   ]
  },
  {
   "cell_type": "markdown",
   "id": "ea4ab557",
   "metadata": {},
   "source": [
    "Above, we see that around 72% of the words with 6 or more letters have appeared in multiple Jeopardy questions. However, the analysis above looked at each word individually, so it does not actually tell us if the repeat of words means that questions are actually repeating. "
   ]
  },
  {
   "cell_type": "markdown",
   "id": "b0f0109e",
   "metadata": {},
   "source": [
    "## Comparing Low and High-Value Questions"
   ]
  },
  {
   "cell_type": "code",
   "execution_count": 202,
   "id": "4072fc18",
   "metadata": {},
   "outputs": [],
   "source": [
    "def valuer(row):\n",
    "    if row['clean_value'] > 800:\n",
    "        return 1\n",
    "    else: \n",
    "        return 0 "
   ]
  },
  {
   "cell_type": "code",
   "execution_count": 203,
   "id": "3b0e9905",
   "metadata": {},
   "outputs": [],
   "source": [
    "questions['high_value'] = questions.apply(valuer, axis=1)"
   ]
  },
  {
   "cell_type": "code",
   "execution_count": 222,
   "id": "77ad74f0",
   "metadata": {},
   "outputs": [],
   "source": [
    "def value_counter(word):\n",
    "    low_count = 0\n",
    "    high_count = 0\n",
    "    test = []\n",
    "    for index, row in questions.iterrows():\n",
    "        if word in row['clean_question'].split():\n",
    "            if row['high_value'] == 1:\n",
    "                high_count += 1\n",
    "            else:\n",
    "                low_count += 1 \n",
    "    return high_count, low_count\n"
   ]
  },
  {
   "cell_type": "code",
   "execution_count": 243,
   "id": "ea57e9b8",
   "metadata": {},
   "outputs": [],
   "source": [
    "import random"
   ]
  },
  {
   "cell_type": "code",
   "execution_count": 258,
   "id": "c3224cb7",
   "metadata": {},
   "outputs": [],
   "source": [
    "random.seed(1)\n",
    "comparison_terms = random.sample(list(terms_used), 10)"
   ]
  },
  {
   "cell_type": "code",
   "execution_count": 260,
   "id": "845f97a6",
   "metadata": {},
   "outputs": [],
   "source": [
    "observed_expected = []\n",
    "for word in comparison_terms:\n",
    "    values = value_counter(word)\n",
    "    observed_expected.append(values)"
   ]
  },
  {
   "cell_type": "code",
   "execution_count": 261,
   "id": "ac489ba1",
   "metadata": {},
   "outputs": [
    {
     "data": {
      "text/plain": [
       "[(1, 4),\n",
       " (0, 1),\n",
       " (0, 1),\n",
       " (1, 0),\n",
       " (0, 1),\n",
       " (1, 0),\n",
       " (0, 1),\n",
       " (0, 1),\n",
       " (11, 33),\n",
       " (0, 2)]"
      ]
     },
     "execution_count": 261,
     "metadata": {},
     "output_type": "execute_result"
    }
   ],
   "source": [
    "observed_expected"
   ]
  },
  {
   "cell_type": "code",
   "execution_count": 262,
   "id": "2bf32a89",
   "metadata": {},
   "outputs": [],
   "source": [
    "high_value_count = questions[ questions['high_value'] == 1].shape[0]"
   ]
  },
  {
   "cell_type": "code",
   "execution_count": 264,
   "id": "bcb0f917",
   "metadata": {},
   "outputs": [],
   "source": [
    "low_value_count = questions[ questions['high_value'] == 0].shape[0]"
   ]
  },
  {
   "cell_type": "code",
   "execution_count": 275,
   "id": "459cc875",
   "metadata": {},
   "outputs": [],
   "source": [
    "chi_squared = []\n",
    "from scipy.stats import chisquare\n",
    "for row in observed_expected:\n",
    "    total = sum(row)\n",
    "    total_prop = total / questions.shape[0]\n",
    "    exp_high = high_value_count * total_prop\n",
    "    exp_low = low_value_count * total_prop\n",
    "    chi_val = chisquare([row[0], row[1]], [exp_high, exp_low])[1]\n",
    "    chi_squared.append(chi_val)"
   ]
  },
  {
   "cell_type": "code",
   "execution_count": 276,
   "id": "6ef9a279",
   "metadata": {},
   "outputs": [
    {
     "data": {
      "text/plain": [
       "[0.6680941623250602,\n",
       " 0.5260772985705469,\n",
       " 0.5260772985705469,\n",
       " 0.11473257634454047,\n",
       " 0.5260772985705469,\n",
       " 0.11473257634454047,\n",
       " 0.5260772985705469,\n",
       " 0.5260772985705469,\n",
       " 0.5902149141987725,\n",
       " 0.3699222378079571]"
      ]
     },
     "execution_count": 276,
     "metadata": {},
     "output_type": "execute_result"
    }
   ],
   "source": [
    "chi_squared"
   ]
  },
  {
   "cell_type": "markdown",
   "id": "21cd8b30",
   "metadata": {},
   "source": [
    "Above, we see that none of the words we randomly selected occur at different rates in high and low-value questions at a statistically significant level (p-value < .05). "
   ]
  },
  {
   "cell_type": "code",
   "execution_count": null,
   "id": "009d6ebc",
   "metadata": {},
   "outputs": [],
   "source": []
  }
 ],
 "metadata": {
  "kernelspec": {
   "display_name": "Python 3 (ipykernel)",
   "language": "python",
   "name": "python3"
  },
  "language_info": {
   "codemirror_mode": {
    "name": "ipython",
    "version": 3
   },
   "file_extension": ".py",
   "mimetype": "text/x-python",
   "name": "python",
   "nbconvert_exporter": "python",
   "pygments_lexer": "ipython3",
   "version": "3.9.7"
  }
 },
 "nbformat": 4,
 "nbformat_minor": 5
}
