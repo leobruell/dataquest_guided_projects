{
 "cells": [
  {
   "cell_type": "markdown",
   "id": "31127e5b",
   "metadata": {},
   "source": [
    "# Guided Project: Mobile App for Lottery Addiction \n",
    "This guided project is designed to allow us to practice what we learned about probability. Below is the imaginary scenario from Dataquest: \n",
    "\n",
    "\"A medical institute that aims to prevent and treat gambling addictions wants to build a dedicated mobile app to help lottery addicts better estimate their chances of winning. The institute has a team of engineers that will build the app, but they need us to create the logical core of the app and calculate probabilities.\"\n",
    "\n",
    "The medical team wants us to start by designing the app to focus on the [6/49 lottery](https://en.wikipedia.org/wiki/Lotto_6/49) in Canada. This lottery allows users to choose six numbers from 1 to 49, without replacement, and users win if their six numbers match the numbers chosen in the drawing. \n"
   ]
  },
  {
   "cell_type": "markdown",
   "id": "2e7fc9d0",
   "metadata": {},
   "source": [
    "This project will require us to repeatedly calculate various probabilities, so we will begin by creating some useful functions: "
   ]
  },
  {
   "cell_type": "code",
   "execution_count": 1,
   "id": "8df978df",
   "metadata": {},
   "outputs": [],
   "source": [
    "def factorial(n):\n",
    "    product = 1\n",
    "    for i in range(1,n+1):\n",
    "        product *= i\n",
    "    return product"
   ]
  },
  {
   "cell_type": "code",
   "execution_count": 9,
   "id": "0544b205",
   "metadata": {},
   "outputs": [],
   "source": [
    "def combination(n, k):\n",
    "    product = 1\n",
    "    for i in range(n - k + 1, n + 1):\n",
    "        product *= i\n",
    "    return product / factorial(k)"
   ]
  },
  {
   "cell_type": "code",
   "execution_count": 36,
   "id": "37045ba4",
   "metadata": {},
   "outputs": [],
   "source": [
    "def one_ticket_probability(numbers): #this function calculates the probability of any single ticket winning the 6/49 lottery. \n",
    "    outcomes = combination(49, 6)\n",
    "    prob = 1 / outcomes * 100\n",
    "    return \"The probability of winning is {:.8f} percent when you choose {}\".format(prob, numbers)"
   ]
  },
  {
   "cell_type": "code",
   "execution_count": 35,
   "id": "da53a1ff",
   "metadata": {},
   "outputs": [
    {
     "data": {
      "text/plain": [
       "'The probability of winning is 0.00000715 percent when you choose [1, 2, 3, 4, 5, 6]'"
      ]
     },
     "execution_count": 35,
     "metadata": {},
     "output_type": "execute_result"
    }
   ],
   "source": [
    "one_ticket_probability([1,2,3,4,5,6]) #testing the function "
   ]
  },
  {
   "cell_type": "markdown",
   "id": "481e31fd",
   "metadata": {},
   "source": [
    "## Comparing Data on Past Drawings \n",
    "Now that we have created the above functions, we can move to the next step in the project. The medical team wants us to incorporate historical data from the 6/49 lottery into the app, so users can see if their numbers have ever won the lottery. The data for the lottery is available [here](https://www.kaggle.com/datasets/datascienceai/lottery-dataset) and contains information on drawings from 1982 to 2018. "
   ]
  },
  {
   "cell_type": "code",
   "execution_count": 38,
   "id": "a9d6f892",
   "metadata": {},
   "outputs": [],
   "source": [
    "import pandas as pd\n",
    "draws = pd.read_csv('Datasets/lottery_data.csv')"
   ]
  },
  {
   "cell_type": "code",
   "execution_count": 39,
   "id": "3089e031",
   "metadata": {},
   "outputs": [
    {
     "data": {
      "text/html": [
       "<div>\n",
       "<style scoped>\n",
       "    .dataframe tbody tr th:only-of-type {\n",
       "        vertical-align: middle;\n",
       "    }\n",
       "\n",
       "    .dataframe tbody tr th {\n",
       "        vertical-align: top;\n",
       "    }\n",
       "\n",
       "    .dataframe thead th {\n",
       "        text-align: right;\n",
       "    }\n",
       "</style>\n",
       "<table border=\"1\" class=\"dataframe\">\n",
       "  <thead>\n",
       "    <tr style=\"text-align: right;\">\n",
       "      <th></th>\n",
       "      <th>PRODUCT</th>\n",
       "      <th>DRAW NUMBER</th>\n",
       "      <th>SEQUENCE NUMBER</th>\n",
       "      <th>DRAW DATE</th>\n",
       "      <th>NUMBER DRAWN 1</th>\n",
       "      <th>NUMBER DRAWN 2</th>\n",
       "      <th>NUMBER DRAWN 3</th>\n",
       "      <th>NUMBER DRAWN 4</th>\n",
       "      <th>NUMBER DRAWN 5</th>\n",
       "      <th>NUMBER DRAWN 6</th>\n",
       "      <th>BONUS NUMBER</th>\n",
       "    </tr>\n",
       "  </thead>\n",
       "  <tbody>\n",
       "    <tr>\n",
       "      <th>0</th>\n",
       "      <td>649</td>\n",
       "      <td>1</td>\n",
       "      <td>0</td>\n",
       "      <td>6/12/1982</td>\n",
       "      <td>3</td>\n",
       "      <td>11</td>\n",
       "      <td>12</td>\n",
       "      <td>14</td>\n",
       "      <td>41</td>\n",
       "      <td>43</td>\n",
       "      <td>13</td>\n",
       "    </tr>\n",
       "    <tr>\n",
       "      <th>1</th>\n",
       "      <td>649</td>\n",
       "      <td>2</td>\n",
       "      <td>0</td>\n",
       "      <td>6/19/1982</td>\n",
       "      <td>8</td>\n",
       "      <td>33</td>\n",
       "      <td>36</td>\n",
       "      <td>37</td>\n",
       "      <td>39</td>\n",
       "      <td>41</td>\n",
       "      <td>9</td>\n",
       "    </tr>\n",
       "    <tr>\n",
       "      <th>2</th>\n",
       "      <td>649</td>\n",
       "      <td>3</td>\n",
       "      <td>0</td>\n",
       "      <td>6/26/1982</td>\n",
       "      <td>1</td>\n",
       "      <td>6</td>\n",
       "      <td>23</td>\n",
       "      <td>24</td>\n",
       "      <td>27</td>\n",
       "      <td>39</td>\n",
       "      <td>34</td>\n",
       "    </tr>\n",
       "  </tbody>\n",
       "</table>\n",
       "</div>"
      ],
      "text/plain": [
       "   PRODUCT  DRAW NUMBER  SEQUENCE NUMBER  DRAW DATE  NUMBER DRAWN 1  \\\n",
       "0      649            1                0  6/12/1982               3   \n",
       "1      649            2                0  6/19/1982               8   \n",
       "2      649            3                0  6/26/1982               1   \n",
       "\n",
       "   NUMBER DRAWN 2  NUMBER DRAWN 3  NUMBER DRAWN 4  NUMBER DRAWN 5  \\\n",
       "0              11              12              14              41   \n",
       "1              33              36              37              39   \n",
       "2               6              23              24              27   \n",
       "\n",
       "   NUMBER DRAWN 6  BONUS NUMBER  \n",
       "0              43            13  \n",
       "1              41             9  \n",
       "2              39            34  "
      ]
     },
     "execution_count": 39,
     "metadata": {},
     "output_type": "execute_result"
    }
   ],
   "source": [
    "draws.head(3)"
   ]
  },
  {
   "cell_type": "code",
   "execution_count": 40,
   "id": "b94efd34",
   "metadata": {},
   "outputs": [
    {
     "data": {
      "text/plain": [
       "(3665, 11)"
      ]
     },
     "execution_count": 40,
     "metadata": {},
     "output_type": "execute_result"
    }
   ],
   "source": [
    "draws.shape"
   ]
  },
  {
   "cell_type": "code",
   "execution_count": 41,
   "id": "f9038035",
   "metadata": {},
   "outputs": [
    {
     "data": {
      "text/html": [
       "<div>\n",
       "<style scoped>\n",
       "    .dataframe tbody tr th:only-of-type {\n",
       "        vertical-align: middle;\n",
       "    }\n",
       "\n",
       "    .dataframe tbody tr th {\n",
       "        vertical-align: top;\n",
       "    }\n",
       "\n",
       "    .dataframe thead th {\n",
       "        text-align: right;\n",
       "    }\n",
       "</style>\n",
       "<table border=\"1\" class=\"dataframe\">\n",
       "  <thead>\n",
       "    <tr style=\"text-align: right;\">\n",
       "      <th></th>\n",
       "      <th>PRODUCT</th>\n",
       "      <th>DRAW NUMBER</th>\n",
       "      <th>SEQUENCE NUMBER</th>\n",
       "      <th>DRAW DATE</th>\n",
       "      <th>NUMBER DRAWN 1</th>\n",
       "      <th>NUMBER DRAWN 2</th>\n",
       "      <th>NUMBER DRAWN 3</th>\n",
       "      <th>NUMBER DRAWN 4</th>\n",
       "      <th>NUMBER DRAWN 5</th>\n",
       "      <th>NUMBER DRAWN 6</th>\n",
       "      <th>BONUS NUMBER</th>\n",
       "    </tr>\n",
       "  </thead>\n",
       "  <tbody>\n",
       "    <tr>\n",
       "      <th>3662</th>\n",
       "      <td>649</td>\n",
       "      <td>3589</td>\n",
       "      <td>0</td>\n",
       "      <td>6/13/2018</td>\n",
       "      <td>6</td>\n",
       "      <td>22</td>\n",
       "      <td>24</td>\n",
       "      <td>31</td>\n",
       "      <td>32</td>\n",
       "      <td>34</td>\n",
       "      <td>16</td>\n",
       "    </tr>\n",
       "    <tr>\n",
       "      <th>3663</th>\n",
       "      <td>649</td>\n",
       "      <td>3590</td>\n",
       "      <td>0</td>\n",
       "      <td>6/16/2018</td>\n",
       "      <td>2</td>\n",
       "      <td>15</td>\n",
       "      <td>21</td>\n",
       "      <td>31</td>\n",
       "      <td>38</td>\n",
       "      <td>49</td>\n",
       "      <td>8</td>\n",
       "    </tr>\n",
       "    <tr>\n",
       "      <th>3664</th>\n",
       "      <td>649</td>\n",
       "      <td>3591</td>\n",
       "      <td>0</td>\n",
       "      <td>6/20/2018</td>\n",
       "      <td>14</td>\n",
       "      <td>24</td>\n",
       "      <td>31</td>\n",
       "      <td>35</td>\n",
       "      <td>37</td>\n",
       "      <td>48</td>\n",
       "      <td>17</td>\n",
       "    </tr>\n",
       "  </tbody>\n",
       "</table>\n",
       "</div>"
      ],
      "text/plain": [
       "      PRODUCT  DRAW NUMBER  SEQUENCE NUMBER  DRAW DATE  NUMBER DRAWN 1  \\\n",
       "3662      649         3589                0  6/13/2018               6   \n",
       "3663      649         3590                0  6/16/2018               2   \n",
       "3664      649         3591                0  6/20/2018              14   \n",
       "\n",
       "      NUMBER DRAWN 2  NUMBER DRAWN 3  NUMBER DRAWN 4  NUMBER DRAWN 5  \\\n",
       "3662              22              24              31              32   \n",
       "3663              15              21              31              38   \n",
       "3664              24              31              35              37   \n",
       "\n",
       "      NUMBER DRAWN 6  BONUS NUMBER  \n",
       "3662              34            16  \n",
       "3663              49             8  \n",
       "3664              48            17  "
      ]
     },
     "execution_count": 41,
     "metadata": {},
     "output_type": "execute_result"
    }
   ],
   "source": [
    "draws.tail(3)"
   ]
  },
  {
   "cell_type": "code",
   "execution_count": 115,
   "id": "163c2c75",
   "metadata": {},
   "outputs": [],
   "source": [
    "def extract_numbers(row):\n",
    "    return set(row[4:11])"
   ]
  },
  {
   "cell_type": "code",
   "execution_count": 118,
   "id": "03b58807",
   "metadata": {},
   "outputs": [],
   "source": [
    "all_sets = draws.apply(extract_numbers, axis=1)"
   ]
  },
  {
   "cell_type": "code",
   "execution_count": 119,
   "id": "1a4452f4",
   "metadata": {},
   "outputs": [
    {
     "data": {
      "text/plain": [
       "0        {3, 41, 11, 12, 43, 14, 13}\n",
       "1         {33, 36, 37, 39, 8, 41, 9}\n",
       "2         {1, 34, 6, 39, 23, 24, 27}\n",
       "3         {34, 3, 9, 10, 43, 13, 20}\n",
       "4        {34, 5, 45, 14, 47, 21, 31}\n",
       "                    ...             \n",
       "3660    {35, 38, 40, 41, 10, 15, 23}\n",
       "3661    {36, 46, 47, 19, 25, 26, 31}\n",
       "3662     {32, 34, 6, 16, 22, 24, 31}\n",
       "3663      {2, 38, 8, 15, 49, 21, 31}\n",
       "3664    {35, 37, 14, 48, 17, 24, 31}\n",
       "Length: 3665, dtype: object"
      ]
     },
     "execution_count": 119,
     "metadata": {},
     "output_type": "execute_result"
    }
   ],
   "source": [
    "all_sets"
   ]
  },
  {
   "cell_type": "code",
   "execution_count": 130,
   "id": "0313434b",
   "metadata": {},
   "outputs": [],
   "source": [
    "def check_historical_occurence(values, all_sets):\n",
    "    entry = set(values)\n",
    "    matches = 0 \n",
    "    for s in all_sets:\n",
    "        if entry == s:\n",
    "            matches += 1\n",
    "    if matches == 0:\n",
    "        return \"This selection of numbers has never occurred in the lottery before. The probability of winning with {} is 0.00000715 percent.\".format(values)\n",
    "    elif matches == 1:\n",
    "        return \"This selection of numbers has occurred once in the past. The probability of winning with {} is 0.00000715 percent.\".format(values)\n",
    "    else:\n",
    "        return \"This selection of numbers has occurred {} times in the past. The probability of winning with {} is 0.00000715 percent.\".format(matches, values)"
   ]
  },
  {
   "cell_type": "code",
   "execution_count": 132,
   "id": "4e5de0a0",
   "metadata": {},
   "outputs": [
    {
     "data": {
      "text/plain": [
       "'This selection of numbers has never occurred in the lottery before. The probability of winning with [2, 38, 10, 15, 49, 21, 31] is 0.00000715 percent.'"
      ]
     },
     "execution_count": 132,
     "metadata": {},
     "output_type": "execute_result"
    }
   ],
   "source": [
    "check_historical_occurence([2, 38, 10, 15, 49, 21, 31], all_sets)"
   ]
  },
  {
   "cell_type": "code",
   "execution_count": 144,
   "id": "ffd437a0",
   "metadata": {},
   "outputs": [],
   "source": [
    "def multi_ticket_probability(num_tickets):\n",
    "    outcomes = combination(49, 6)\n",
    "    prob_win = num_tickets / outcomes * 100 \n",
    "    if num_tickets == 1:\n",
    "        return \"The chance of winning with one ticket is {:.8f} percent.\".format(prob_win)\n",
    "    else: \n",
    "        return \"The chance of winning with {:,} tickets is {:.8f} percent.\".format(num_tickets, prob_win)\n"
   ]
  },
  {
   "cell_type": "code",
   "execution_count": 145,
   "id": "6e24f52d",
   "metadata": {},
   "outputs": [
    {
     "name": "stdout",
     "output_type": "stream",
     "text": [
      "The chance of winning with one ticket is 0.00000715 percent.\n",
      "The chance of winning with 10 tickets is 0.00007151 percent.\n",
      "The chance of winning with 100 tickets is 0.00071511 percent.\n",
      "The chance of winning with 10,000 tickets is 0.07151124 percent.\n",
      "The chance of winning with 1,000,000 tickets is 7.15112384 percent.\n",
      "The chance of winning with 6,991,908 tickets is 50.00000000 percent.\n",
      "The chance of winning with 13,983,816 tickets is 100.00000000 percent.\n"
     ]
    }
   ],
   "source": [
    "inputs = [1, 10, 100, 10000, 1000000, 6991908, 13983816]\n",
    "for i in inputs:\n",
    "    print(multi_ticket_probability(i))"
   ]
  },
  {
   "cell_type": "markdown",
   "id": "f395397a",
   "metadata": {},
   "source": [
    "Above, we see that an individual would have to buy 1 million tickets to have a 7% chance of winning the lottery. "
   ]
  },
  {
   "cell_type": "markdown",
   "id": "2c7247ac",
   "metadata": {},
   "source": [
    "## Finding the Probability of Having Few Matches\n",
    "In most 6/49 lotteries there are smaller prizes available when a player's ticket match two, three, four, or five of the six numbers drawn. Because of this, users of the addiction app may be interested in knowing the likelihood of having a partial match. Below, we create a function that gives the probability of such a partial match. "
   ]
  },
  {
   "cell_type": "code",
   "execution_count": 189,
   "id": "26886117",
   "metadata": {},
   "outputs": [],
   "source": [
    "def probability_less_6(val):\n",
    "    partial_matches = combination(6, val)\n",
    "    fulls_with_pm = combination(43, 6 - val)\n",
    "    good_outcomes = partial_matches * fulls_with_pm \n",
    "    prob_good = good_outcomes / combination(49, 6) * 100\n",
    "    return \"The chance of having {} numbers match is {:.6f} percent.\".format(val, prob_good)"
   ]
  },
  {
   "cell_type": "code",
   "execution_count": 190,
   "id": "5c72df24",
   "metadata": {},
   "outputs": [
    {
     "name": "stdout",
     "output_type": "stream",
     "text": [
      "The chance of having 2 numbers match is 13.237803 percent.\n",
      "The chance of having 3 numbers match is 1.765040 percent.\n",
      "The chance of having 4 numbers match is 0.096862 percent.\n",
      "The chance of having 5 numbers match is 0.001845 percent.\n"
     ]
    }
   ],
   "source": [
    "in_vals = [2, 3, 4, 5]\n",
    "for n in in_vals:\n",
    "    print(probability_less_6(n))"
   ]
  },
  {
   "cell_type": "code",
   "execution_count": 219,
   "id": "8d3bdf1f",
   "metadata": {},
   "outputs": [],
   "source": [
    "def tot_probability_less_6(val):\n",
    "    tot_prob = 0\n",
    "    for n in range(val, 6):\n",
    "        partial_matches = combination(6, n)\n",
    "        fulls_with_pm = combination(43, 6 - n)\n",
    "        good_outcomes = partial_matches * fulls_with_pm \n",
    "        prob_good = good_outcomes / combination(49, 6) * 100\n",
    "        tot_prob += prob_good\n",
    "    return \"The chance of having at least {} numbers match is {:.6f} percent.\".format(val, tot_prob)"
   ]
  },
  {
   "cell_type": "code",
   "execution_count": 220,
   "id": "c3fc0ae2",
   "metadata": {},
   "outputs": [
    {
     "name": "stdout",
     "output_type": "stream",
     "text": [
      "The chance of having at least 2 numbers match is 15.101550 percent.\n",
      "The chance of having at least 3 numbers match is 1.863747 percent.\n",
      "The chance of having at least 4 numbers match is 0.098707 percent.\n",
      "The chance of having at least 5 numbers match is 0.001845 percent.\n"
     ]
    }
   ],
   "source": [
    "for n in in_vals:\n",
    "    print(tot_probability_less_6(n))"
   ]
  }
 ],
 "metadata": {
  "kernelspec": {
   "display_name": "Python 3 (ipykernel)",
   "language": "python",
   "name": "python3"
  },
  "language_info": {
   "codemirror_mode": {
    "name": "ipython",
    "version": 3
   },
   "file_extension": ".py",
   "mimetype": "text/x-python",
   "name": "python",
   "nbconvert_exporter": "python",
   "pygments_lexer": "ipython3",
   "version": "3.9.7"
  }
 },
 "nbformat": 4,
 "nbformat_minor": 5
}
