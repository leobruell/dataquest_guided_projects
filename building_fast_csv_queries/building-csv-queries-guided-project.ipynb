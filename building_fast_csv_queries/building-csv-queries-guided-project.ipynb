{
 "cells": [
  {
   "cell_type": "markdown",
   "id": "b65acefe",
   "metadata": {},
   "source": [
    "# Guided Project: Building Fast CSV Queries\n",
    "In this guided project, we use what we learned in the introduction to algorithms unit to build fast csv queries. "
   ]
  },
  {
   "cell_type": "markdown",
   "id": "820de758",
   "metadata": {},
   "source": [
    "## Reading in the Data"
   ]
  },
  {
   "cell_type": "code",
   "execution_count": 1,
   "id": "af5bd409",
   "metadata": {},
   "outputs": [],
   "source": [
    "import csv"
   ]
  },
  {
   "cell_type": "code",
   "execution_count": 2,
   "id": "26aab378",
   "metadata": {},
   "outputs": [],
   "source": [
    "with open('laptops.csv') as file:\n",
    "    rows = list(csv.reader(file))"
   ]
  },
  {
   "cell_type": "code",
   "execution_count": 3,
   "id": "fd8c29f9",
   "metadata": {},
   "outputs": [],
   "source": [
    "header = rows[0]"
   ]
  },
  {
   "cell_type": "code",
   "execution_count": 4,
   "id": "34d8a33d",
   "metadata": {},
   "outputs": [],
   "source": [
    "rows = rows[1:]"
   ]
  },
  {
   "cell_type": "markdown",
   "id": "54557bc6",
   "metadata": {},
   "source": [
    "## Creating Inventory Class"
   ]
  },
  {
   "cell_type": "code",
   "execution_count": 5,
   "id": "27797aaa",
   "metadata": {},
   "outputs": [],
   "source": [
    "class Inventory():\n",
    "    def __init__(self, csv_filename):\n",
    "        with open('laptops.csv') as file:\n",
    "            rows = list(csv.reader(file))\n",
    "        self.header = rows[0]\n",
    "        self.rows = rows[1:]\n",
    "        for row in self.rows:\n",
    "            row[-1] = int(row[-1])    \n",
    "        "
   ]
  },
  {
   "cell_type": "code",
   "execution_count": 6,
   "id": "3a48af5f",
   "metadata": {},
   "outputs": [],
   "source": [
    "test = Inventory('laptops.csv') #Testing the Inventory class"
   ]
  },
  {
   "cell_type": "code",
   "execution_count": 7,
   "id": "bb3b59be",
   "metadata": {},
   "outputs": [
    {
     "data": {
      "text/plain": [
       "['Id',\n",
       " 'Company',\n",
       " 'Product',\n",
       " 'TypeName',\n",
       " 'Inches',\n",
       " 'ScreenResolution',\n",
       " 'Cpu',\n",
       " 'Ram',\n",
       " 'Memory',\n",
       " 'Gpu',\n",
       " 'OpSys',\n",
       " 'Weight',\n",
       " 'Price']"
      ]
     },
     "execution_count": 7,
     "metadata": {},
     "output_type": "execute_result"
    }
   ],
   "source": [
    "test.header"
   ]
  },
  {
   "cell_type": "code",
   "execution_count": 8,
   "id": "e020dbf0",
   "metadata": {},
   "outputs": [
    {
     "data": {
      "text/plain": [
       "1303"
      ]
     },
     "execution_count": 8,
     "metadata": {},
     "output_type": "execute_result"
    }
   ],
   "source": [
    "len(test.rows)"
   ]
  },
  {
   "cell_type": "code",
   "execution_count": 9,
   "id": "713eacb0",
   "metadata": {},
   "outputs": [
    {
     "data": {
      "text/plain": [
       "int"
      ]
     },
     "execution_count": 9,
     "metadata": {},
     "output_type": "execute_result"
    }
   ],
   "source": [
    "type(test.rows[0][-1])"
   ]
  },
  {
   "cell_type": "markdown",
   "id": "da54a744",
   "metadata": {},
   "source": [
    "## Creating ID Lookup Method"
   ]
  },
  {
   "cell_type": "code",
   "execution_count": 10,
   "id": "3d1e3c93",
   "metadata": {},
   "outputs": [],
   "source": [
    "class Inventory():\n",
    "    def __init__(self, csv_filename):\n",
    "        with open('laptops.csv') as file:\n",
    "            rows = list(csv.reader(file))\n",
    "        self.header = rows[0]\n",
    "        self.rows = rows[1:]\n",
    "        for row in self.rows:\n",
    "            row[-1] = int(row[-1])\n",
    "            \n",
    "    def get_laptop_from_id(self, laptop_id):\n",
    "        for row in self.rows:\n",
    "            if row[0] == laptop_id:\n",
    "                return row\n",
    "        return 'No Laptop with that ID'\n",
    "    "
   ]
  },
  {
   "cell_type": "code",
   "execution_count": 11,
   "id": "fca4794f",
   "metadata": {},
   "outputs": [],
   "source": [
    "test_2 = Inventory('laptops.csv')"
   ]
  },
  {
   "cell_type": "code",
   "execution_count": 12,
   "id": "1f2a855e",
   "metadata": {},
   "outputs": [
    {
     "data": {
      "text/plain": [
       "['3362737',\n",
       " 'HP',\n",
       " '250 G6',\n",
       " 'Notebook',\n",
       " '15.6',\n",
       " 'Full HD 1920x1080',\n",
       " 'Intel Core i5 7200U 2.5GHz',\n",
       " '8GB',\n",
       " '256GB SSD',\n",
       " 'Intel HD Graphics 620',\n",
       " 'No OS',\n",
       " '1.86kg',\n",
       " 575]"
      ]
     },
     "execution_count": 12,
     "metadata": {},
     "output_type": "execute_result"
    }
   ],
   "source": [
    "test_2.get_laptop_from_id('3362737')"
   ]
  },
  {
   "cell_type": "code",
   "execution_count": 13,
   "id": "5171f69e",
   "metadata": {},
   "outputs": [
    {
     "data": {
      "text/plain": [
       "'No Laptop with that ID'"
      ]
     },
     "execution_count": 13,
     "metadata": {},
     "output_type": "execute_result"
    }
   ],
   "source": [
    "test_2.get_laptop_from_id('3362736')"
   ]
  },
  {
   "cell_type": "markdown",
   "id": "f482ffda",
   "metadata": {},
   "source": [
    "## Improving the ID Lookup Method"
   ]
  },
  {
   "cell_type": "markdown",
   "id": "7a3c433f",
   "metadata": {},
   "source": [
    "The search method we used above is a simple for loop that iterates over each row in the dataset. Consequently, it has time complexity O(R) where R is the number of rows. This works just fine on the given dataset, as it only has around 1,000 rows. However, this time complexity could become a problem in a much larger dataset. Below, we improve the time complexity ID lookup method. "
   ]
  },
  {
   "cell_type": "code",
   "execution_count": 14,
   "id": "ae9be143",
   "metadata": {},
   "outputs": [],
   "source": [
    "class Inventory():\n",
    "    def __init__(self, csv_filename):\n",
    "        with open('laptops.csv') as file:\n",
    "            rows = list(csv.reader(file))\n",
    "        self.header = rows[0]\n",
    "        self.rows = rows[1:]\n",
    "        for row in self.rows:\n",
    "            row[-1] = int(row[-1])\n",
    "        self.id_to_row = {}\n",
    "        for row in self.rows:\n",
    "            self.id_to_row[row[0]] = row\n",
    "            \n",
    "    def get_laptop_from_id(self, laptop_id):\n",
    "        for row in self.rows:\n",
    "            if row[0] == laptop_id:\n",
    "                return row\n",
    "        return None\n",
    "    \n",
    "    def get_laptop_from_id_fast(self, laptop_id):\n",
    "        if laptop_id in self.id_to_row:\n",
    "            return self.id_to_row[laptop_id]\n",
    "        else:\n",
    "            return None"
   ]
  },
  {
   "cell_type": "code",
   "execution_count": 15,
   "id": "1f795b47",
   "metadata": {},
   "outputs": [],
   "source": [
    "test_3 = Inventory('laptops.csv')"
   ]
  },
  {
   "cell_type": "code",
   "execution_count": 16,
   "id": "104c049a",
   "metadata": {},
   "outputs": [
    {
     "data": {
      "text/plain": [
       "['3362737',\n",
       " 'HP',\n",
       " '250 G6',\n",
       " 'Notebook',\n",
       " '15.6',\n",
       " 'Full HD 1920x1080',\n",
       " 'Intel Core i5 7200U 2.5GHz',\n",
       " '8GB',\n",
       " '256GB SSD',\n",
       " 'Intel HD Graphics 620',\n",
       " 'No OS',\n",
       " '1.86kg',\n",
       " 575]"
      ]
     },
     "execution_count": 16,
     "metadata": {},
     "output_type": "execute_result"
    }
   ],
   "source": [
    "test_3.get_laptop_from_id_fast('3362737')"
   ]
  },
  {
   "cell_type": "code",
   "execution_count": 17,
   "id": "adbe5464",
   "metadata": {},
   "outputs": [],
   "source": [
    "test_3.get_laptop_from_id_fast('3362736')"
   ]
  },
  {
   "cell_type": "markdown",
   "id": "31d69e3e",
   "metadata": {},
   "source": [
    "## Comparing the Two ID Lookup Methods"
   ]
  },
  {
   "cell_type": "code",
   "execution_count": 18,
   "id": "6297bf5b",
   "metadata": {},
   "outputs": [],
   "source": [
    "import time\n",
    "import random"
   ]
  },
  {
   "cell_type": "code",
   "execution_count": 19,
   "id": "ef24270e",
   "metadata": {},
   "outputs": [],
   "source": [
    "test_vals = [str(random.randint(1000000, 9999999)) for _ in range(10000)]"
   ]
  },
  {
   "cell_type": "code",
   "execution_count": 20,
   "id": "90593642",
   "metadata": {},
   "outputs": [],
   "source": [
    "test_4 = Inventory('laptops.csv')"
   ]
  },
  {
   "cell_type": "code",
   "execution_count": 21,
   "id": "8de06fd8",
   "metadata": {},
   "outputs": [],
   "source": [
    "total_time_no_dict = 0\n",
    "for val in test_vals:\n",
    "    s = time.time()\n",
    "    test_4.get_laptop_from_id(val)\n",
    "    e = time.time()\n",
    "    runtime = e - s\n",
    "    total_time_no_dict += runtime\n",
    "    "
   ]
  },
  {
   "cell_type": "code",
   "execution_count": 22,
   "id": "ff1b8976",
   "metadata": {},
   "outputs": [],
   "source": [
    "total_time_dict = 0\n",
    "for val in test_vals:\n",
    "    s = time.time()\n",
    "    test_4.get_laptop_from_id_fast(val)\n",
    "    e = time.time()\n",
    "    runtime = e - s\n",
    "    total_time_dict += runtime"
   ]
  },
  {
   "cell_type": "code",
   "execution_count": 23,
   "id": "d5af0114",
   "metadata": {},
   "outputs": [
    {
     "data": {
      "text/plain": [
       "0.0028145313262939453"
      ]
     },
     "execution_count": 23,
     "metadata": {},
     "output_type": "execute_result"
    }
   ],
   "source": [
    "total_time_dict"
   ]
  },
  {
   "cell_type": "code",
   "execution_count": 24,
   "id": "8d7f5af3",
   "metadata": {},
   "outputs": [
    {
     "data": {
      "text/plain": [
       "0.3976590633392334"
      ]
     },
     "execution_count": 24,
     "metadata": {},
     "output_type": "execute_result"
    }
   ],
   "source": [
    "total_time_no_dict"
   ]
  },
  {
   "cell_type": "markdown",
   "id": "24856206",
   "metadata": {},
   "source": [
    "Above, we see that the time to run the ID lookup method 10,000 times using the dictionary is only about .01 seconds. Conversely, the time to run the method 10,000 times without using a dictionary is .47 seconds. "
   ]
  },
  {
   "cell_type": "markdown",
   "id": "8b2461cd",
   "metadata": {},
   "source": [
    "## Adding a Check Promotion Dollars Method"
   ]
  },
  {
   "cell_type": "code",
   "execution_count": 25,
   "id": "8e60686b",
   "metadata": {},
   "outputs": [],
   "source": [
    "class Inventory():\n",
    "    def __init__(self, csv_filename):\n",
    "        with open('laptops.csv') as file:\n",
    "            rows = list(csv.reader(file))\n",
    "        self.header = rows[0]\n",
    "        self.rows = rows[1:]\n",
    "        for row in self.rows:\n",
    "            row[-1] = int(row[-1])\n",
    "        self.id_to_row = {}\n",
    "        for row in self.rows:\n",
    "            self.id_to_row[row[0]] = row\n",
    "            \n",
    "    def get_laptop_from_id(self, laptop_id):\n",
    "        for row in self.rows:\n",
    "            if row[0] == laptop_id:\n",
    "                return row\n",
    "        return None\n",
    "    \n",
    "    def get_laptop_from_id_fast(self, laptop_id):\n",
    "        if laptop_id in self.id_to_row:\n",
    "            return self.id_to_row[laptop_id]\n",
    "        else:\n",
    "            return None\n",
    "    \n",
    "    def check_promotion_dollars(self, dollars):\n",
    "        for row in self.rows:\n",
    "            if row[-1] == dollars:\n",
    "                return True\n",
    "        for row in self.rows:\n",
    "            for r in self.rows:\n",
    "                if row + r == dollars:\n",
    "                    return True\n",
    "        return False"
   ]
  },
  {
   "cell_type": "code",
   "execution_count": 26,
   "id": "7ef421dd",
   "metadata": {},
   "outputs": [],
   "source": [
    "p_test = Inventory('laptops.csv')"
   ]
  },
  {
   "cell_type": "code",
   "execution_count": 27,
   "id": "cc2ed792",
   "metadata": {},
   "outputs": [
    {
     "data": {
      "text/plain": [
       "True"
      ]
     },
     "execution_count": 27,
     "metadata": {},
     "output_type": "execute_result"
    }
   ],
   "source": [
    "p_test.check_promotion_dollars(1000)"
   ]
  },
  {
   "cell_type": "code",
   "execution_count": 28,
   "id": "3192064c",
   "metadata": {},
   "outputs": [
    {
     "data": {
      "text/plain": [
       "False"
      ]
     },
     "execution_count": 28,
     "metadata": {},
     "output_type": "execute_result"
    }
   ],
   "source": [
    "p_test.check_promotion_dollars(442)"
   ]
  },
  {
   "cell_type": "markdown",
   "id": "d0282974",
   "metadata": {},
   "source": [
    "## Improving the Check Promotion Dollars Method"
   ]
  },
  {
   "cell_type": "code",
   "execution_count": 29,
   "id": "58c0ec4f",
   "metadata": {},
   "outputs": [],
   "source": [
    "class Inventory():\n",
    "    def __init__(self, csv_filename):\n",
    "        with open('laptops.csv') as file:\n",
    "            rows = list(csv.reader(file))\n",
    "        self.header = rows[0]\n",
    "        self.rows = rows[1:]\n",
    "        for row in self.rows:\n",
    "            row[-1] = int(row[-1])\n",
    "        self.id_to_row = {}\n",
    "        for row in self.rows:\n",
    "            self.id_to_row[row[0]] = row\n",
    "        self.prices = set()\n",
    "        for row in self.rows:\n",
    "            self.prices.add(row[-1])\n",
    "            \n",
    "    def get_laptop_from_id(self, laptop_id):\n",
    "        for row in self.rows:\n",
    "            if row[0] == laptop_id:\n",
    "                return row\n",
    "        return None\n",
    "    \n",
    "    def get_laptop_from_id_fast(self, laptop_id):\n",
    "        if laptop_id in self.id_to_row:\n",
    "            return self.id_to_row[laptop_id]\n",
    "        else:\n",
    "            return None\n",
    "    \n",
    "    def check_promotion_dollars(self, dollars):\n",
    "        for row in self.rows:\n",
    "            if row[-1] == dollars:\n",
    "                return True\n",
    "        for row in self.rows:\n",
    "            for r in self.rows:\n",
    "                if row + r == dollars:\n",
    "                    return True\n",
    "        return False\n",
    "    \n",
    "    def check_promotion_dollars_fast(self, dollars):\n",
    "        if dollars in self.prices:\n",
    "            return True\n",
    "        for price in self.prices:\n",
    "            val = dollars - price\n",
    "            if val in self.prices:\n",
    "                return True\n",
    "        return False"
   ]
  },
  {
   "cell_type": "code",
   "execution_count": 30,
   "id": "f51731f6",
   "metadata": {},
   "outputs": [],
   "source": [
    "new_test = Inventory('laptops.csv')"
   ]
  },
  {
   "cell_type": "code",
   "execution_count": 31,
   "id": "b8cf3048",
   "metadata": {},
   "outputs": [
    {
     "data": {
      "text/plain": [
       "True"
      ]
     },
     "execution_count": 31,
     "metadata": {},
     "output_type": "execute_result"
    }
   ],
   "source": [
    "new_test.check_promotion_dollars_fast(1000)"
   ]
  },
  {
   "cell_type": "code",
   "execution_count": 32,
   "id": "6a55df4d",
   "metadata": {},
   "outputs": [
    {
     "data": {
      "text/plain": [
       "False"
      ]
     },
     "execution_count": 32,
     "metadata": {},
     "output_type": "execute_result"
    }
   ],
   "source": [
    "new_test.check_promotion_dollars_fast(442)"
   ]
  },
  {
   "cell_type": "markdown",
   "id": "ff3136fb",
   "metadata": {},
   "source": [
    "## Comparing the Check Promotion Dollars Methods"
   ]
  },
  {
   "cell_type": "code",
   "execution_count": 33,
   "id": "79ca7012",
   "metadata": {},
   "outputs": [],
   "source": [
    "prices = [random.randint(100, 5000) for _ in range(100)]"
   ]
  },
  {
   "cell_type": "code",
   "execution_count": 34,
   "id": "6ebf72c6",
   "metadata": {},
   "outputs": [],
   "source": [
    "testing_p_methods = Inventory('laptops.csv')"
   ]
  },
  {
   "cell_type": "code",
   "execution_count": 35,
   "id": "df7fba73",
   "metadata": {},
   "outputs": [],
   "source": [
    "total_time_no_set = 0\n",
    "for p in prices:\n",
    "    start = time.time()\n",
    "    testing_p_methods.check_promotion_dollars(p)\n",
    "    end = time.time()\n",
    "    runtime = end - start\n",
    "    total_time_no_set += runtime"
   ]
  },
  {
   "cell_type": "code",
   "execution_count": 36,
   "id": "4cc7468f",
   "metadata": {},
   "outputs": [],
   "source": [
    "total_time_set = 0\n",
    "for p in prices:\n",
    "    start = time.time()\n",
    "    testing_p_methods.check_promotion_dollars_fast(p)\n",
    "    end = time.time()\n",
    "    runtime = end - start\n",
    "    total_time_set += runtime"
   ]
  },
  {
   "cell_type": "code",
   "execution_count": 37,
   "id": "f11d3858",
   "metadata": {},
   "outputs": [
    {
     "data": {
      "text/plain": [
       "11.388094186782837"
      ]
     },
     "execution_count": 37,
     "metadata": {},
     "output_type": "execute_result"
    }
   ],
   "source": [
    "total_time_no_set"
   ]
  },
  {
   "cell_type": "code",
   "execution_count": 38,
   "id": "0ca8f83e",
   "metadata": {},
   "outputs": [
    {
     "data": {
      "text/plain": [
       "0.00048661231994628906"
      ]
     },
     "execution_count": 38,
     "metadata": {},
     "output_type": "execute_result"
    }
   ],
   "source": [
    "total_time_set"
   ]
  },
  {
   "cell_type": "markdown",
   "id": "9caea458",
   "metadata": {},
   "source": [
    "Above, we see that the check promotion dollars method using sets is much, much faster than the method without using sets!"
   ]
  },
  {
   "cell_type": "markdown",
   "id": "66a29a2c",
   "metadata": {},
   "source": [
    "## Creating a Binary Search Returning All Laptops Under a Certain Price"
   ]
  },
  {
   "cell_type": "code",
   "execution_count": 39,
   "id": "16a1ccd3",
   "metadata": {},
   "outputs": [],
   "source": [
    "class Inventory():\n",
    "    def __init__(self, csv_filename):\n",
    "        with open('laptops.csv') as file:\n",
    "            rows = list(csv.reader(file))\n",
    "        self.header = rows[0]\n",
    "        self.rows = rows[1:]\n",
    "        for row in self.rows:\n",
    "            row[-1] = int(row[-1])\n",
    "        self.id_to_row = {}\n",
    "        for row in self.rows:\n",
    "            self.id_to_row[row[0]] = row\n",
    "        self.prices = set()\n",
    "        for row in self.rows:\n",
    "            self.prices.add(row[-1])\n",
    "        self.rows_by_price = sorted(self.rows, key=lambda row: row[-1])\n",
    "            \n",
    "    def get_laptop_from_id(self, laptop_id):\n",
    "        for row in self.rows:\n",
    "            if row[0] == laptop_id:\n",
    "                return row\n",
    "        return None\n",
    "    \n",
    "    def get_laptop_from_id_fast(self, laptop_id):\n",
    "        if laptop_id in self.id_to_row:\n",
    "            return self.id_to_row[laptop_id]\n",
    "        else:\n",
    "            return None\n",
    "    \n",
    "    def check_promotion_dollars(self, dollars):\n",
    "        for row in self.rows:\n",
    "            if row[-1] == dollars:\n",
    "                return True\n",
    "        for row in self.rows:\n",
    "            for r in self.rows:\n",
    "                if row + r == dollars:\n",
    "                    return True\n",
    "        return False\n",
    "    \n",
    "    def check_promotion_dollars_fast(self, dollars):\n",
    "        if dollars in self.prices:\n",
    "            return True\n",
    "        for price in self.prices:\n",
    "            val = dollars - price\n",
    "            if val in self.prices:\n",
    "                return True\n",
    "        return False\n",
    "    \n",
    "    def find_first_laptop_more_expensive(self, price):\n",
    "        range_start = 0                                   \n",
    "        range_end = len(self.rows_by_price) - 1                       \n",
    "        while range_start < range_end:\n",
    "            range_middle = (range_end + range_start) // 2  \n",
    "            mid_p = self.rows_by_price[range_middle][-1]\n",
    "            range_mid_1 = range_middle - 1\n",
    "            mid_p_1 = self.rows_by_price[range_mid_1][-1]\n",
    "            if mid_p > price and mid_p_1 <= price:                            \n",
    "                return range_middle                        \n",
    "            elif mid_p <= price:                           \n",
    "                range_start = range_middle + 1             \n",
    "            else:                                          \n",
    "                range_end = range_middle - 1 \n",
    "        p = self.rows_by_price[range_start][-1]\n",
    "        if price != p:                  \n",
    "            return -1                                      \n",
    "        return range_start\n",
    "    "
   ]
  },
  {
   "cell_type": "code",
   "execution_count": 40,
   "id": "d6ef3380",
   "metadata": {},
   "outputs": [],
   "source": [
    "test = Inventory('laptops.csv')"
   ]
  },
  {
   "cell_type": "code",
   "execution_count": 41,
   "id": "b03eacad",
   "metadata": {},
   "outputs": [
    {
     "data": {
      "text/plain": [
       "683"
      ]
     },
     "execution_count": 41,
     "metadata": {},
     "output_type": "execute_result"
    }
   ],
   "source": [
    "test.find_first_laptop_more_expensive(1000)"
   ]
  },
  {
   "cell_type": "code",
   "execution_count": 42,
   "id": "d2e60048",
   "metadata": {},
   "outputs": [
    {
     "data": {
      "text/plain": [
       "-1"
      ]
     },
     "execution_count": 42,
     "metadata": {},
     "output_type": "execute_result"
    }
   ],
   "source": [
    "test.find_first_laptop_more_expensive(10000)"
   ]
  }
 ],
 "metadata": {
  "kernelspec": {
   "display_name": "Python 3 (ipykernel)",
   "language": "python",
   "name": "python3"
  },
  "language_info": {
   "codemirror_mode": {
    "name": "ipython",
    "version": 3
   },
   "file_extension": ".py",
   "mimetype": "text/x-python",
   "name": "python",
   "nbconvert_exporter": "python",
   "pygments_lexer": "ipython3",
   "version": "3.9.12"
  }
 },
 "nbformat": 4,
 "nbformat_minor": 5
}
