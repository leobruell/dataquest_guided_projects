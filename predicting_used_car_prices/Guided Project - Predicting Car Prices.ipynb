{
 "cells": [
  {
   "cell_type": "markdown",
   "id": "523390d8",
   "metadata": {},
   "source": [
    "# Guided Project: Predicting Car Prices"
   ]
  },
  {
   "cell_type": "markdown",
   "id": "06843a2e",
   "metadata": {},
   "source": [
    "In this guided project, we practice using the k-nearest neighbors algorithm to predict car prices. The data is from the UCI Machine Learning Repository and is available [here](https://archive.ics.uci.edu/ml/datasets/automobile)."
   ]
  },
  {
   "cell_type": "markdown",
   "id": "d74fac4b",
   "metadata": {},
   "source": [
    "## Reading in the Data"
   ]
  },
  {
   "cell_type": "code",
   "execution_count": 209,
   "id": "d68d7ef0",
   "metadata": {},
   "outputs": [],
   "source": [
    "import pandas as pd\n",
    "import numpy as np\n",
    "import matplotlib.pyplot as plt\n",
    "from sklearn.neighbors import KNeighborsRegressor\n",
    "from sklearn.metrics import mean_squared_error\n",
    "pd.options.display.max_columns = None"
   ]
  },
  {
   "cell_type": "code",
   "execution_count": 115,
   "id": "b9ac6be6",
   "metadata": {},
   "outputs": [],
   "source": [
    "cars = pd.read_csv('Datasets\\imports-85.data', header=None)"
   ]
  },
  {
   "cell_type": "code",
   "execution_count": 116,
   "id": "3e089e2c",
   "metadata": {},
   "outputs": [],
   "source": [
    "cars.columns = ['symboling', 'normalized-losses', 'make', 'fuel-type', 'aspiration', 'num-of-doors', 'body-style', \n",
    "        'drive-wheels', 'engine-location', 'wheel-base', 'length', 'width', 'height', 'curb-weight', 'engine-type', \n",
    "        'num-of-cylinders', 'engine-size', 'fuel-system', 'bore', 'stroke', 'compression-rate', 'horsepower', 'peak-rpm', 'city-mpg', 'highway-mpg', 'price']\n"
   ]
  },
  {
   "cell_type": "markdown",
   "id": "8445f4c3",
   "metadata": {},
   "source": [
    "## Exploring the Data"
   ]
  },
  {
   "cell_type": "code",
   "execution_count": 117,
   "id": "fd36d58f",
   "metadata": {},
   "outputs": [
    {
     "data": {
      "text/html": [
       "<div>\n",
       "<style scoped>\n",
       "    .dataframe tbody tr th:only-of-type {\n",
       "        vertical-align: middle;\n",
       "    }\n",
       "\n",
       "    .dataframe tbody tr th {\n",
       "        vertical-align: top;\n",
       "    }\n",
       "\n",
       "    .dataframe thead th {\n",
       "        text-align: right;\n",
       "    }\n",
       "</style>\n",
       "<table border=\"1\" class=\"dataframe\">\n",
       "  <thead>\n",
       "    <tr style=\"text-align: right;\">\n",
       "      <th></th>\n",
       "      <th>symboling</th>\n",
       "      <th>normalized-losses</th>\n",
       "      <th>make</th>\n",
       "      <th>fuel-type</th>\n",
       "      <th>aspiration</th>\n",
       "      <th>num-of-doors</th>\n",
       "      <th>body-style</th>\n",
       "      <th>drive-wheels</th>\n",
       "      <th>engine-location</th>\n",
       "      <th>wheel-base</th>\n",
       "      <th>length</th>\n",
       "      <th>width</th>\n",
       "      <th>height</th>\n",
       "      <th>curb-weight</th>\n",
       "      <th>engine-type</th>\n",
       "      <th>num-of-cylinders</th>\n",
       "      <th>engine-size</th>\n",
       "      <th>fuel-system</th>\n",
       "      <th>bore</th>\n",
       "      <th>stroke</th>\n",
       "      <th>compression-rate</th>\n",
       "      <th>horsepower</th>\n",
       "      <th>peak-rpm</th>\n",
       "      <th>city-mpg</th>\n",
       "      <th>highway-mpg</th>\n",
       "      <th>price</th>\n",
       "    </tr>\n",
       "  </thead>\n",
       "  <tbody>\n",
       "    <tr>\n",
       "      <th>0</th>\n",
       "      <td>3</td>\n",
       "      <td>?</td>\n",
       "      <td>alfa-romero</td>\n",
       "      <td>gas</td>\n",
       "      <td>std</td>\n",
       "      <td>two</td>\n",
       "      <td>convertible</td>\n",
       "      <td>rwd</td>\n",
       "      <td>front</td>\n",
       "      <td>88.6</td>\n",
       "      <td>168.8</td>\n",
       "      <td>64.1</td>\n",
       "      <td>48.8</td>\n",
       "      <td>2548</td>\n",
       "      <td>dohc</td>\n",
       "      <td>four</td>\n",
       "      <td>130</td>\n",
       "      <td>mpfi</td>\n",
       "      <td>3.47</td>\n",
       "      <td>2.68</td>\n",
       "      <td>9.0</td>\n",
       "      <td>111</td>\n",
       "      <td>5000</td>\n",
       "      <td>21</td>\n",
       "      <td>27</td>\n",
       "      <td>13495</td>\n",
       "    </tr>\n",
       "    <tr>\n",
       "      <th>1</th>\n",
       "      <td>3</td>\n",
       "      <td>?</td>\n",
       "      <td>alfa-romero</td>\n",
       "      <td>gas</td>\n",
       "      <td>std</td>\n",
       "      <td>two</td>\n",
       "      <td>convertible</td>\n",
       "      <td>rwd</td>\n",
       "      <td>front</td>\n",
       "      <td>88.6</td>\n",
       "      <td>168.8</td>\n",
       "      <td>64.1</td>\n",
       "      <td>48.8</td>\n",
       "      <td>2548</td>\n",
       "      <td>dohc</td>\n",
       "      <td>four</td>\n",
       "      <td>130</td>\n",
       "      <td>mpfi</td>\n",
       "      <td>3.47</td>\n",
       "      <td>2.68</td>\n",
       "      <td>9.0</td>\n",
       "      <td>111</td>\n",
       "      <td>5000</td>\n",
       "      <td>21</td>\n",
       "      <td>27</td>\n",
       "      <td>16500</td>\n",
       "    </tr>\n",
       "    <tr>\n",
       "      <th>2</th>\n",
       "      <td>1</td>\n",
       "      <td>?</td>\n",
       "      <td>alfa-romero</td>\n",
       "      <td>gas</td>\n",
       "      <td>std</td>\n",
       "      <td>two</td>\n",
       "      <td>hatchback</td>\n",
       "      <td>rwd</td>\n",
       "      <td>front</td>\n",
       "      <td>94.5</td>\n",
       "      <td>171.2</td>\n",
       "      <td>65.5</td>\n",
       "      <td>52.4</td>\n",
       "      <td>2823</td>\n",
       "      <td>ohcv</td>\n",
       "      <td>six</td>\n",
       "      <td>152</td>\n",
       "      <td>mpfi</td>\n",
       "      <td>2.68</td>\n",
       "      <td>3.47</td>\n",
       "      <td>9.0</td>\n",
       "      <td>154</td>\n",
       "      <td>5000</td>\n",
       "      <td>19</td>\n",
       "      <td>26</td>\n",
       "      <td>16500</td>\n",
       "    </tr>\n",
       "    <tr>\n",
       "      <th>3</th>\n",
       "      <td>2</td>\n",
       "      <td>164</td>\n",
       "      <td>audi</td>\n",
       "      <td>gas</td>\n",
       "      <td>std</td>\n",
       "      <td>four</td>\n",
       "      <td>sedan</td>\n",
       "      <td>fwd</td>\n",
       "      <td>front</td>\n",
       "      <td>99.8</td>\n",
       "      <td>176.6</td>\n",
       "      <td>66.2</td>\n",
       "      <td>54.3</td>\n",
       "      <td>2337</td>\n",
       "      <td>ohc</td>\n",
       "      <td>four</td>\n",
       "      <td>109</td>\n",
       "      <td>mpfi</td>\n",
       "      <td>3.19</td>\n",
       "      <td>3.40</td>\n",
       "      <td>10.0</td>\n",
       "      <td>102</td>\n",
       "      <td>5500</td>\n",
       "      <td>24</td>\n",
       "      <td>30</td>\n",
       "      <td>13950</td>\n",
       "    </tr>\n",
       "    <tr>\n",
       "      <th>4</th>\n",
       "      <td>2</td>\n",
       "      <td>164</td>\n",
       "      <td>audi</td>\n",
       "      <td>gas</td>\n",
       "      <td>std</td>\n",
       "      <td>four</td>\n",
       "      <td>sedan</td>\n",
       "      <td>4wd</td>\n",
       "      <td>front</td>\n",
       "      <td>99.4</td>\n",
       "      <td>176.6</td>\n",
       "      <td>66.4</td>\n",
       "      <td>54.3</td>\n",
       "      <td>2824</td>\n",
       "      <td>ohc</td>\n",
       "      <td>five</td>\n",
       "      <td>136</td>\n",
       "      <td>mpfi</td>\n",
       "      <td>3.19</td>\n",
       "      <td>3.40</td>\n",
       "      <td>8.0</td>\n",
       "      <td>115</td>\n",
       "      <td>5500</td>\n",
       "      <td>18</td>\n",
       "      <td>22</td>\n",
       "      <td>17450</td>\n",
       "    </tr>\n",
       "  </tbody>\n",
       "</table>\n",
       "</div>"
      ],
      "text/plain": [
       "   symboling normalized-losses         make fuel-type aspiration num-of-doors  \\\n",
       "0          3                 ?  alfa-romero       gas        std          two   \n",
       "1          3                 ?  alfa-romero       gas        std          two   \n",
       "2          1                 ?  alfa-romero       gas        std          two   \n",
       "3          2               164         audi       gas        std         four   \n",
       "4          2               164         audi       gas        std         four   \n",
       "\n",
       "    body-style drive-wheels engine-location  wheel-base  length  width  \\\n",
       "0  convertible          rwd           front        88.6   168.8   64.1   \n",
       "1  convertible          rwd           front        88.6   168.8   64.1   \n",
       "2    hatchback          rwd           front        94.5   171.2   65.5   \n",
       "3        sedan          fwd           front        99.8   176.6   66.2   \n",
       "4        sedan          4wd           front        99.4   176.6   66.4   \n",
       "\n",
       "   height  curb-weight engine-type num-of-cylinders  engine-size fuel-system  \\\n",
       "0    48.8         2548        dohc             four          130        mpfi   \n",
       "1    48.8         2548        dohc             four          130        mpfi   \n",
       "2    52.4         2823        ohcv              six          152        mpfi   \n",
       "3    54.3         2337         ohc             four          109        mpfi   \n",
       "4    54.3         2824         ohc             five          136        mpfi   \n",
       "\n",
       "   bore stroke  compression-rate horsepower peak-rpm  city-mpg  highway-mpg  \\\n",
       "0  3.47   2.68               9.0        111     5000        21           27   \n",
       "1  3.47   2.68               9.0        111     5000        21           27   \n",
       "2  2.68   3.47               9.0        154     5000        19           26   \n",
       "3  3.19   3.40              10.0        102     5500        24           30   \n",
       "4  3.19   3.40               8.0        115     5500        18           22   \n",
       "\n",
       "   price  \n",
       "0  13495  \n",
       "1  16500  \n",
       "2  16500  \n",
       "3  13950  \n",
       "4  17450  "
      ]
     },
     "execution_count": 117,
     "metadata": {},
     "output_type": "execute_result"
    }
   ],
   "source": [
    "cars.head()"
   ]
  },
  {
   "cell_type": "code",
   "execution_count": 118,
   "id": "f4187bbf",
   "metadata": {},
   "outputs": [
    {
     "data": {
      "text/plain": [
       "(205, 26)"
      ]
     },
     "execution_count": 118,
     "metadata": {},
     "output_type": "execute_result"
    }
   ],
   "source": [
    "cars.shape"
   ]
  },
  {
   "cell_type": "code",
   "execution_count": 119,
   "id": "31209f59",
   "metadata": {},
   "outputs": [
    {
     "name": "stdout",
     "output_type": "stream",
     "text": [
      "<class 'pandas.core.frame.DataFrame'>\n",
      "RangeIndex: 205 entries, 0 to 204\n",
      "Data columns (total 26 columns):\n",
      " #   Column             Non-Null Count  Dtype  \n",
      "---  ------             --------------  -----  \n",
      " 0   symboling          205 non-null    int64  \n",
      " 1   normalized-losses  205 non-null    object \n",
      " 2   make               205 non-null    object \n",
      " 3   fuel-type          205 non-null    object \n",
      " 4   aspiration         205 non-null    object \n",
      " 5   num-of-doors       205 non-null    object \n",
      " 6   body-style         205 non-null    object \n",
      " 7   drive-wheels       205 non-null    object \n",
      " 8   engine-location    205 non-null    object \n",
      " 9   wheel-base         205 non-null    float64\n",
      " 10  length             205 non-null    float64\n",
      " 11  width              205 non-null    float64\n",
      " 12  height             205 non-null    float64\n",
      " 13  curb-weight        205 non-null    int64  \n",
      " 14  engine-type        205 non-null    object \n",
      " 15  num-of-cylinders   205 non-null    object \n",
      " 16  engine-size        205 non-null    int64  \n",
      " 17  fuel-system        205 non-null    object \n",
      " 18  bore               205 non-null    object \n",
      " 19  stroke             205 non-null    object \n",
      " 20  compression-rate   205 non-null    float64\n",
      " 21  horsepower         205 non-null    object \n",
      " 22  peak-rpm           205 non-null    object \n",
      " 23  city-mpg           205 non-null    int64  \n",
      " 24  highway-mpg        205 non-null    int64  \n",
      " 25  price              205 non-null    object \n",
      "dtypes: float64(5), int64(5), object(16)\n",
      "memory usage: 41.8+ KB\n"
     ]
    }
   ],
   "source": [
    "cars.info()"
   ]
  },
  {
   "cell_type": "markdown",
   "id": "1303ae07",
   "metadata": {},
   "source": [
    "## Cleaning the Data"
   ]
  },
  {
   "cell_type": "code",
   "execution_count": 120,
   "id": "5d082fed",
   "metadata": {},
   "outputs": [],
   "source": [
    "cars = cars.replace('?', np.nan)"
   ]
  },
  {
   "cell_type": "code",
   "execution_count": null,
   "id": "00c0c20d",
   "metadata": {},
   "outputs": [],
   "source": []
  },
  {
   "cell_type": "code",
   "execution_count": 121,
   "id": "f3a34d91",
   "metadata": {},
   "outputs": [
    {
     "name": "stdout",
     "output_type": "stream",
     "text": [
      "<class 'pandas.core.frame.DataFrame'>\n",
      "RangeIndex: 205 entries, 0 to 204\n",
      "Data columns (total 26 columns):\n",
      " #   Column             Non-Null Count  Dtype  \n",
      "---  ------             --------------  -----  \n",
      " 0   symboling          205 non-null    int64  \n",
      " 1   normalized-losses  164 non-null    object \n",
      " 2   make               205 non-null    object \n",
      " 3   fuel-type          205 non-null    object \n",
      " 4   aspiration         205 non-null    object \n",
      " 5   num-of-doors       203 non-null    object \n",
      " 6   body-style         205 non-null    object \n",
      " 7   drive-wheels       205 non-null    object \n",
      " 8   engine-location    205 non-null    object \n",
      " 9   wheel-base         205 non-null    float64\n",
      " 10  length             205 non-null    float64\n",
      " 11  width              205 non-null    float64\n",
      " 12  height             205 non-null    float64\n",
      " 13  curb-weight        205 non-null    int64  \n",
      " 14  engine-type        205 non-null    object \n",
      " 15  num-of-cylinders   205 non-null    object \n",
      " 16  engine-size        205 non-null    int64  \n",
      " 17  fuel-system        205 non-null    object \n",
      " 18  bore               201 non-null    object \n",
      " 19  stroke             201 non-null    object \n",
      " 20  compression-rate   205 non-null    float64\n",
      " 21  horsepower         203 non-null    object \n",
      " 22  peak-rpm           203 non-null    object \n",
      " 23  city-mpg           205 non-null    int64  \n",
      " 24  highway-mpg        205 non-null    int64  \n",
      " 25  price              201 non-null    object \n",
      "dtypes: float64(5), int64(5), object(16)\n",
      "memory usage: 41.8+ KB\n"
     ]
    }
   ],
   "source": [
    "cars.info()"
   ]
  },
  {
   "cell_type": "code",
   "execution_count": 122,
   "id": "6288e6c8",
   "metadata": {},
   "outputs": [],
   "source": [
    "cars[['bore', 'stroke', 'horsepower', 'peak-rpm', 'price']] = cars[['bore', 'stroke', 'horsepower', 'peak-rpm', 'price']].astype(float)"
   ]
  },
  {
   "cell_type": "code",
   "execution_count": 123,
   "id": "fc3aa076",
   "metadata": {},
   "outputs": [],
   "source": [
    "cars.columns = cars.columns.str.replace('-','_')"
   ]
  },
  {
   "cell_type": "code",
   "execution_count": 124,
   "id": "16b6d6cd",
   "metadata": {},
   "outputs": [
    {
     "data": {
      "text/plain": [
       "False    164\n",
       "True      41\n",
       "Name: normalized_losses, dtype: int64"
      ]
     },
     "execution_count": 124,
     "metadata": {},
     "output_type": "execute_result"
    }
   ],
   "source": [
    "cars['normalized_losses'].isnull().value_counts()"
   ]
  },
  {
   "cell_type": "markdown",
   "id": "a9af4617",
   "metadata": {},
   "source": [
    "Here, we see that the 'normalized_losses' column has 41 missing values, which is around a 5th of the data. However, all other columns only have at most 3 or 4 missing values. Consequently, we will drop the 'normalized_losses' column as using it would force us to lose a considerable amount of the data (or make assumptions to infer values for the missing data). "
   ]
  },
  {
   "cell_type": "code",
   "execution_count": 125,
   "id": "2a544e7c",
   "metadata": {},
   "outputs": [],
   "source": [
    "cars.drop('normalized_losses',axis=1, inplace=True)"
   ]
  },
  {
   "cell_type": "code",
   "execution_count": 126,
   "id": "19671ebd",
   "metadata": {},
   "outputs": [],
   "source": [
    "cars.dropna(inplace=True)"
   ]
  },
  {
   "cell_type": "code",
   "execution_count": 127,
   "id": "b42cb0a3",
   "metadata": {},
   "outputs": [
    {
     "data": {
      "text/plain": [
       "(193, 25)"
      ]
     },
     "execution_count": 127,
     "metadata": {},
     "output_type": "execute_result"
    }
   ],
   "source": [
    "cars.shape"
   ]
  },
  {
   "cell_type": "markdown",
   "id": "6a4de137",
   "metadata": {},
   "source": [
    "After dropping the 'normalized_losses' column and removing any other rows with null values, we have 193 rows remaining in the dataset. This is around 94% of the original data containing 205 rows. "
   ]
  },
  {
   "cell_type": "code",
   "execution_count": 128,
   "id": "08212846",
   "metadata": {},
   "outputs": [],
   "source": [
    "col_normalize = ['wheel_base', 'length', 'width', 'height', 'curb_weight','engine_size',\n",
    " 'bore', 'stroke', 'compression_rate', 'horsepower', 'peak_rpm', 'city_mpg', 'highway_mpg']\n",
    "col_numeric = ['wheel_base', 'length', 'width', 'height', 'curb_weight','engine_size',\n",
    " 'bore', 'stroke', 'compression_rate', 'horsepower', 'peak_rpm', 'city_mpg', 'highway_mpg', 'price']\n"
   ]
  },
  {
   "cell_type": "code",
   "execution_count": 129,
   "id": "2e607bff",
   "metadata": {},
   "outputs": [],
   "source": [
    "for col in col_normalize:\n",
    "    cars[col] = (cars[col] - min(cars[col]))/(max(cars[col]) - min(cars[col]))"
   ]
  },
  {
   "cell_type": "code",
   "execution_count": 149,
   "id": "44256c2d",
   "metadata": {},
   "outputs": [],
   "source": [
    "cars_numeric = cars[col_numeric].copy()\n",
    "cars_numeric = cars_numeric.reset_index()"
   ]
  },
  {
   "cell_type": "code",
   "execution_count": 150,
   "id": "981566a7",
   "metadata": {},
   "outputs": [
    {
     "data": {
      "text/html": [
       "<div>\n",
       "<style scoped>\n",
       "    .dataframe tbody tr th:only-of-type {\n",
       "        vertical-align: middle;\n",
       "    }\n",
       "\n",
       "    .dataframe tbody tr th {\n",
       "        vertical-align: top;\n",
       "    }\n",
       "\n",
       "    .dataframe thead th {\n",
       "        text-align: right;\n",
       "    }\n",
       "</style>\n",
       "<table border=\"1\" class=\"dataframe\">\n",
       "  <thead>\n",
       "    <tr style=\"text-align: right;\">\n",
       "      <th></th>\n",
       "      <th>index</th>\n",
       "      <th>wheel_base</th>\n",
       "      <th>length</th>\n",
       "      <th>width</th>\n",
       "      <th>height</th>\n",
       "      <th>curb_weight</th>\n",
       "      <th>engine_size</th>\n",
       "      <th>bore</th>\n",
       "      <th>stroke</th>\n",
       "      <th>compression_rate</th>\n",
       "      <th>horsepower</th>\n",
       "      <th>peak_rpm</th>\n",
       "      <th>city_mpg</th>\n",
       "      <th>highway_mpg</th>\n",
       "      <th>price</th>\n",
       "    </tr>\n",
       "  </thead>\n",
       "  <tbody>\n",
       "    <tr>\n",
       "      <th>0</th>\n",
       "      <td>0</td>\n",
       "      <td>0.058309</td>\n",
       "      <td>0.413433</td>\n",
       "      <td>0.324786</td>\n",
       "      <td>0.083333</td>\n",
       "      <td>0.411171</td>\n",
       "      <td>0.260377</td>\n",
       "      <td>0.664286</td>\n",
       "      <td>0.290476</td>\n",
       "      <td>0.1250</td>\n",
       "      <td>0.294393</td>\n",
       "      <td>0.346939</td>\n",
       "      <td>0.222222</td>\n",
       "      <td>0.289474</td>\n",
       "      <td>13495.0</td>\n",
       "    </tr>\n",
       "    <tr>\n",
       "      <th>1</th>\n",
       "      <td>1</td>\n",
       "      <td>0.058309</td>\n",
       "      <td>0.413433</td>\n",
       "      <td>0.324786</td>\n",
       "      <td>0.083333</td>\n",
       "      <td>0.411171</td>\n",
       "      <td>0.260377</td>\n",
       "      <td>0.664286</td>\n",
       "      <td>0.290476</td>\n",
       "      <td>0.1250</td>\n",
       "      <td>0.294393</td>\n",
       "      <td>0.346939</td>\n",
       "      <td>0.222222</td>\n",
       "      <td>0.289474</td>\n",
       "      <td>16500.0</td>\n",
       "    </tr>\n",
       "    <tr>\n",
       "      <th>2</th>\n",
       "      <td>2</td>\n",
       "      <td>0.230321</td>\n",
       "      <td>0.449254</td>\n",
       "      <td>0.444444</td>\n",
       "      <td>0.383333</td>\n",
       "      <td>0.517843</td>\n",
       "      <td>0.343396</td>\n",
       "      <td>0.100000</td>\n",
       "      <td>0.666667</td>\n",
       "      <td>0.1250</td>\n",
       "      <td>0.495327</td>\n",
       "      <td>0.346939</td>\n",
       "      <td>0.166667</td>\n",
       "      <td>0.263158</td>\n",
       "      <td>16500.0</td>\n",
       "    </tr>\n",
       "    <tr>\n",
       "      <th>3</th>\n",
       "      <td>3</td>\n",
       "      <td>0.384840</td>\n",
       "      <td>0.529851</td>\n",
       "      <td>0.504274</td>\n",
       "      <td>0.541667</td>\n",
       "      <td>0.329325</td>\n",
       "      <td>0.181132</td>\n",
       "      <td>0.464286</td>\n",
       "      <td>0.633333</td>\n",
       "      <td>0.1875</td>\n",
       "      <td>0.252336</td>\n",
       "      <td>0.551020</td>\n",
       "      <td>0.305556</td>\n",
       "      <td>0.368421</td>\n",
       "      <td>13950.0</td>\n",
       "    </tr>\n",
       "    <tr>\n",
       "      <th>4</th>\n",
       "      <td>4</td>\n",
       "      <td>0.373178</td>\n",
       "      <td>0.529851</td>\n",
       "      <td>0.521368</td>\n",
       "      <td>0.541667</td>\n",
       "      <td>0.518231</td>\n",
       "      <td>0.283019</td>\n",
       "      <td>0.464286</td>\n",
       "      <td>0.633333</td>\n",
       "      <td>0.0625</td>\n",
       "      <td>0.313084</td>\n",
       "      <td>0.551020</td>\n",
       "      <td>0.138889</td>\n",
       "      <td>0.157895</td>\n",
       "      <td>17450.0</td>\n",
       "    </tr>\n",
       "  </tbody>\n",
       "</table>\n",
       "</div>"
      ],
      "text/plain": [
       "   index  wheel_base    length     width    height  curb_weight  engine_size  \\\n",
       "0      0    0.058309  0.413433  0.324786  0.083333     0.411171     0.260377   \n",
       "1      1    0.058309  0.413433  0.324786  0.083333     0.411171     0.260377   \n",
       "2      2    0.230321  0.449254  0.444444  0.383333     0.517843     0.343396   \n",
       "3      3    0.384840  0.529851  0.504274  0.541667     0.329325     0.181132   \n",
       "4      4    0.373178  0.529851  0.521368  0.541667     0.518231     0.283019   \n",
       "\n",
       "       bore    stroke  compression_rate  horsepower  peak_rpm  city_mpg  \\\n",
       "0  0.664286  0.290476            0.1250    0.294393  0.346939  0.222222   \n",
       "1  0.664286  0.290476            0.1250    0.294393  0.346939  0.222222   \n",
       "2  0.100000  0.666667            0.1250    0.495327  0.346939  0.166667   \n",
       "3  0.464286  0.633333            0.1875    0.252336  0.551020  0.305556   \n",
       "4  0.464286  0.633333            0.0625    0.313084  0.551020  0.138889   \n",
       "\n",
       "   highway_mpg    price  \n",
       "0     0.289474  13495.0  \n",
       "1     0.289474  16500.0  \n",
       "2     0.263158  16500.0  \n",
       "3     0.368421  13950.0  \n",
       "4     0.157895  17450.0  "
      ]
     },
     "execution_count": 150,
     "metadata": {},
     "output_type": "execute_result"
    }
   ],
   "source": [
    "cars_numeric.head()"
   ]
  },
  {
   "cell_type": "markdown",
   "id": "429967d8",
   "metadata": {},
   "source": [
    "## Analyzing the Data"
   ]
  },
  {
   "cell_type": "code",
   "execution_count": 262,
   "id": "2fa54c55",
   "metadata": {},
   "outputs": [],
   "source": [
    "def knn_train_test(tr_col, tar_col, df): #creating a simple k-neighbors train-and-test function\n",
    "    new_ind = np.random.RandomState(seed=1).permutation(193)\n",
    "    df = df.loc[new_ind]\n",
    "    train = df.head(97)\n",
    "    test = df.tail(96)\n",
    "    knn = KNeighborsRegressor()\n",
    "    knn.fit(train[[tr_col]], train[tar_col])\n",
    "    predictions = knn.predict(test[[tr_col]])\n",
    "    rmse = mean_squared_error(test[tar_col], predictions)**.5\n",
    "    return rmse"
   ]
  },
  {
   "cell_type": "code",
   "execution_count": 263,
   "id": "a4dd40a2",
   "metadata": {},
   "outputs": [],
   "source": [
    "rmse_results = {}\n",
    "for col in col_normalize:\n",
    "    rmse_results[col] = knn_train_test(col, 'price', cars_numeric)"
   ]
  },
  {
   "cell_type": "code",
   "execution_count": 264,
   "id": "607939cd",
   "metadata": {},
   "outputs": [
    {
     "data": {
      "text/plain": [
       "engine_size         3266.103230\n",
       "curb_weight         4296.837719\n",
       "highway_mpg         4448.697594\n",
       "city_mpg            4481.309043\n",
       "width               4571.411639\n",
       "horsepower          4896.075705\n",
       "length              5863.097912\n",
       "wheel_base          5902.382125\n",
       "compression_rate    6382.342011\n",
       "bore                7268.169907\n",
       "stroke              8035.714548\n",
       "peak_rpm            8206.051051\n",
       "height              8435.962899\n",
       "dtype: float64"
      ]
     },
     "execution_count": 264,
     "metadata": {},
     "output_type": "execute_result"
    }
   ],
   "source": [
    "rmse_results = pd.Series(rmse_results)\n",
    "rmse_results.sort_values()"
   ]
  },
  {
   "cell_type": "code",
   "execution_count": 204,
   "id": "69aaa741",
   "metadata": {},
   "outputs": [],
   "source": [
    "def knn_train_test_k(tr_col, tar_col, df): #allowing k to vary in the k-neighbors train-and-test function\n",
    "    new_ind = np.random.RandomState(seed=1).permutation(193)\n",
    "    df = df.loc[new_ind]\n",
    "    train = df.head(97)\n",
    "    test = df.tail(96)\n",
    "    k_vals = [1,3,5,7,9]\n",
    "    rmse_list = []\n",
    "    for k in k_vals:\n",
    "        knn = KNeighborsRegressor(n_neighbors=k)\n",
    "        knn.fit(train[[tr_col]], train[tar_col])\n",
    "        predictions = knn.predict(test[[tr_col]])\n",
    "        rmse = mean_squared_error(test[tar_col], predictions)**.5\n",
    "        rmse_list.append(rmse)\n",
    "    return rmse_list"
   ]
  },
  {
   "cell_type": "code",
   "execution_count": 205,
   "id": "91669268",
   "metadata": {},
   "outputs": [],
   "source": [
    "rmse_k_results = {}\n",
    "for col in col_normalize:\n",
    "    rmse_k_results[col] = knn_train_test_k(col, 'price', cars_numeric)"
   ]
  },
  {
   "cell_type": "code",
   "execution_count": 214,
   "id": "d5c76221",
   "metadata": {},
   "outputs": [
    {
     "data": {
      "text/html": [
       "<div>\n",
       "<style scoped>\n",
       "    .dataframe tbody tr th:only-of-type {\n",
       "        vertical-align: middle;\n",
       "    }\n",
       "\n",
       "    .dataframe tbody tr th {\n",
       "        vertical-align: top;\n",
       "    }\n",
       "\n",
       "    .dataframe thead th {\n",
       "        text-align: right;\n",
       "    }\n",
       "</style>\n",
       "<table border=\"1\" class=\"dataframe\">\n",
       "  <thead>\n",
       "    <tr style=\"text-align: right;\">\n",
       "      <th></th>\n",
       "      <th>wheel_base</th>\n",
       "      <th>length</th>\n",
       "      <th>width</th>\n",
       "      <th>height</th>\n",
       "      <th>curb_weight</th>\n",
       "      <th>engine_size</th>\n",
       "      <th>bore</th>\n",
       "      <th>stroke</th>\n",
       "      <th>compression_rate</th>\n",
       "      <th>horsepower</th>\n",
       "      <th>peak_rpm</th>\n",
       "      <th>city_mpg</th>\n",
       "      <th>highway_mpg</th>\n",
       "    </tr>\n",
       "  </thead>\n",
       "  <tbody>\n",
       "    <tr>\n",
       "      <th>0</th>\n",
       "      <td>5539.328175</td>\n",
       "      <td>6225.715700</td>\n",
       "      <td>4949.925840</td>\n",
       "      <td>11049.628949</td>\n",
       "      <td>4983.167716</td>\n",
       "      <td>2991.085977</td>\n",
       "      <td>11994.046481</td>\n",
       "      <td>8227.238007</td>\n",
       "      <td>7098.361486</td>\n",
       "      <td>4626.814172</td>\n",
       "      <td>7201.339859</td>\n",
       "      <td>5495.228488</td>\n",
       "      <td>4802.419555</td>\n",
       "    </tr>\n",
       "    <tr>\n",
       "      <th>1</th>\n",
       "      <td>5689.657078</td>\n",
       "      <td>5819.555982</td>\n",
       "      <td>4404.320202</td>\n",
       "      <td>8682.467183</td>\n",
       "      <td>4135.084348</td>\n",
       "      <td>2976.826478</td>\n",
       "      <td>8056.004752</td>\n",
       "      <td>7437.611349</td>\n",
       "      <td>6513.154339</td>\n",
       "      <td>4478.815675</td>\n",
       "      <td>7701.492527</td>\n",
       "      <td>4244.355793</td>\n",
       "      <td>4238.901352</td>\n",
       "    </tr>\n",
       "    <tr>\n",
       "      <th>2</th>\n",
       "      <td>5902.382125</td>\n",
       "      <td>5863.097912</td>\n",
       "      <td>4571.411639</td>\n",
       "      <td>8435.962899</td>\n",
       "      <td>4296.837719</td>\n",
       "      <td>3266.103230</td>\n",
       "      <td>7268.169907</td>\n",
       "      <td>8035.714548</td>\n",
       "      <td>6382.342011</td>\n",
       "      <td>4896.075705</td>\n",
       "      <td>8206.051051</td>\n",
       "      <td>4481.309043</td>\n",
       "      <td>4448.697594</td>\n",
       "    </tr>\n",
       "    <tr>\n",
       "      <th>3</th>\n",
       "      <td>5904.289464</td>\n",
       "      <td>5884.472055</td>\n",
       "      <td>4447.115400</td>\n",
       "      <td>8213.935620</td>\n",
       "      <td>4372.359097</td>\n",
       "      <td>3646.700423</td>\n",
       "      <td>7036.333545</td>\n",
       "      <td>8604.224013</td>\n",
       "      <td>6566.790905</td>\n",
       "      <td>5314.010004</td>\n",
       "      <td>7870.897143</td>\n",
       "      <td>4297.772475</td>\n",
       "      <td>4575.175774</td>\n",
       "    </tr>\n",
       "    <tr>\n",
       "      <th>4</th>\n",
       "      <td>6057.382214</td>\n",
       "      <td>5924.759729</td>\n",
       "      <td>4727.969457</td>\n",
       "      <td>8252.762618</td>\n",
       "      <td>4798.026940</td>\n",
       "      <td>3940.704408</td>\n",
       "      <td>7189.866119</td>\n",
       "      <td>8201.177422</td>\n",
       "      <td>6839.130538</td>\n",
       "      <td>5185.162712</td>\n",
       "      <td>7874.665648</td>\n",
       "      <td>4685.707661</td>\n",
       "      <td>4853.688898</td>\n",
       "    </tr>\n",
       "  </tbody>\n",
       "</table>\n",
       "</div>"
      ],
      "text/plain": [
       "    wheel_base       length        width        height  curb_weight  \\\n",
       "0  5539.328175  6225.715700  4949.925840  11049.628949  4983.167716   \n",
       "1  5689.657078  5819.555982  4404.320202   8682.467183  4135.084348   \n",
       "2  5902.382125  5863.097912  4571.411639   8435.962899  4296.837719   \n",
       "3  5904.289464  5884.472055  4447.115400   8213.935620  4372.359097   \n",
       "4  6057.382214  5924.759729  4727.969457   8252.762618  4798.026940   \n",
       "\n",
       "   engine_size          bore       stroke  compression_rate   horsepower  \\\n",
       "0  2991.085977  11994.046481  8227.238007       7098.361486  4626.814172   \n",
       "1  2976.826478   8056.004752  7437.611349       6513.154339  4478.815675   \n",
       "2  3266.103230   7268.169907  8035.714548       6382.342011  4896.075705   \n",
       "3  3646.700423   7036.333545  8604.224013       6566.790905  5314.010004   \n",
       "4  3940.704408   7189.866119  8201.177422       6839.130538  5185.162712   \n",
       "\n",
       "      peak_rpm     city_mpg  highway_mpg  \n",
       "0  7201.339859  5495.228488  4802.419555  \n",
       "1  7701.492527  4244.355793  4238.901352  \n",
       "2  8206.051051  4481.309043  4448.697594  \n",
       "3  7870.897143  4297.772475  4575.175774  \n",
       "4  7874.665648  4685.707661  4853.688898  "
      ]
     },
     "execution_count": 214,
     "metadata": {},
     "output_type": "execute_result"
    }
   ],
   "source": [
    "rmse_k_results = pd.DataFrame(rmse_k_results)\n",
    "rmse_k_results"
   ]
  },
  {
   "cell_type": "code",
   "execution_count": 223,
   "id": "0a2be8da",
   "metadata": {},
   "outputs": [
    {
     "data": {
      "image/png": "[encoded data removed]",
      "text/plain": [
       "<Figure size 432x288 with 1 Axes>"
      ]
     },
     "metadata": {
      "needs_background": "light"
     },
     "output_type": "display_data"
    }
   ],
   "source": [
    "for c in rmse_k_results.columns:\n",
    "    plt.plot([1,3,5,7,9], rmse_k_results[c])\n",
    "plt.xticks([1,3,5,7,9])\n",
    "plt.title('RMSE Values by K-Value')\n",
    "plt.xlabel('K')\n",
    "plt.ylabel('RMSE')\n",
    "plt.show()"
   ]
  },
  {
   "cell_type": "markdown",
   "id": "3ff5bbf8",
   "metadata": {},
   "source": [
    "Above, we see that the best k-value varies depending on what column we use to train the algorithm. However, it seems that 3 or 5 are the best values for most columns. "
   ]
  },
  {
   "cell_type": "code",
   "execution_count": 248,
   "id": "c167bb7d",
   "metadata": {},
   "outputs": [],
   "source": [
    "def knn_train_test_cols(tr_cols, tar_col, df): #modifying the k-neighbors train-and-test function to accept multiple training columns.\n",
    "    new_ind = np.random.RandomState(seed=1).permutation(193)\n",
    "    df = df.loc[new_ind]\n",
    "    train = df.head(97)\n",
    "    test = df.tail(96)\n",
    "    knn = KNeighborsRegressor()\n",
    "    knn.fit(train[tr_cols], train[tar_col])\n",
    "    predictions = knn.predict(test[tr_cols])\n",
    "    rmse = mean_squared_error(test[tar_col], predictions)**.5\n",
    "    return rmse"
   ]
  },
  {
   "cell_type": "code",
   "execution_count": 249,
   "id": "89381f46",
   "metadata": {},
   "outputs": [
    {
     "data": {
      "text/plain": [
       "['engine_size', 'curb_weight']"
      ]
     },
     "execution_count": 249,
     "metadata": {},
     "output_type": "execute_result"
    }
   ],
   "source": [
    "rmse_results = rmse_results.sort_values()\n",
    "cols = list(rmse_results.index[:2])\n",
    "cols"
   ]
  },
  {
   "cell_type": "code",
   "execution_count": 257,
   "id": "e6a59a8b",
   "metadata": {},
   "outputs": [],
   "source": [
    "multi_cols_rmse = {}\n",
    "for i in range(2,6): \n",
    "    cols = list(rmse_results.index[:i])\n",
    "    rmse = knn_train_test_cols(cols, 'price', cars_numeric)\n",
    "    multi_cols_rmse[i] = rmse"
   ]
  },
  {
   "cell_type": "code",
   "execution_count": 265,
   "id": "24f0267d",
   "metadata": {},
   "outputs": [
    {
     "data": {
      "text/plain": [
       "{2: 3395.090700064826,\n",
       " 3: 3646.4103008415464,\n",
       " 4: 3939.500331577597,\n",
       " 5: 3658.9598791869803}"
      ]
     },
     "execution_count": 265,
     "metadata": {},
     "output_type": "execute_result"
    }
   ],
   "source": [
    "multi_cols_rmse #the RMSE values using the top 2, 3, 4, and 5 columns with the lowest RMSE from the single column analysis. "
   ]
  },
  {
   "cell_type": "markdown",
   "id": "f5ef98c1",
   "metadata": {},
   "source": [
    "Above, we see that when multiple columns are used to train the algorithm, the lowest rmse with the default k-value (5) is found using just the top two categories from the single column analysis. "
   ]
  },
  {
   "cell_type": "code",
   "execution_count": 273,
   "id": "2d96b3cd",
   "metadata": {},
   "outputs": [],
   "source": [
    "def knn_train_test_25k(tr_cols, tar_col, df): #allowing k to vary in the k-neighbors train-and-test function\n",
    "    new_ind = np.random.RandomState(seed=1).permutation(193)\n",
    "    df = df.loc[new_ind]\n",
    "    train = df.head(97)\n",
    "    test = df.tail(96)\n",
    "    k_vals = [x for x in range(1,26)]\n",
    "    rmse_list = []\n",
    "    for k in k_vals:\n",
    "        knn = KNeighborsRegressor(n_neighbors=k)\n",
    "        knn.fit(train[tr_cols], train[tar_col])\n",
    "        predictions = knn.predict(test[tr_cols])\n",
    "        rmse = mean_squared_error(test[tar_col], predictions)**.5\n",
    "        rmse_list.append(rmse)\n",
    "    return rmse_list"
   ]
  },
  {
   "cell_type": "code",
   "execution_count": 282,
   "id": "8b355885",
   "metadata": {},
   "outputs": [],
   "source": [
    "top_col_groups = [['engine_size','curb_weight'],\n",
    "                  ['engine_size','curb_weight','highway_mpg'],\n",
    "                  ['engine_size','curb_weight','highway_mpg','city_mpg','width']]\n",
    "rmse_vals_25 = {}\n",
    "for i, cols in zip([2,3,5],top_col_groups):\n",
    "    rmse_list = knn_train_test_25k(cols, 'price', cars_numeric)\n",
    "    rmse_vals_25[i] = rmse_list"
   ]
  },
  {
   "cell_type": "code",
   "execution_count": 299,
   "id": "e2d31894",
   "metadata": {},
   "outputs": [
    {
     "data": {
      "image/png": "[encoded data removed]",
      "text/plain": [
       "<Figure size 432x288 with 1 Axes>"
      ]
     },
     "metadata": {
      "needs_background": "light"
     },
     "output_type": "display_data"
    }
   ],
   "source": [
    "rmse_vals_25 = pd.DataFrame(rmse_vals_25)\n",
    "rmse_vals_25.index = [x for x in range(1,26)]\n",
    "\n",
    "for c in [2,3,5]:\n",
    "    plt.plot([x for x in range(1,26)], rmse_vals_25[c], label=c)\n",
    "    plt.legend()\n",
    "plt.xticks([x for x in range(1,27,5)])\n",
    "plt.xlabel('k-value')\n",
    "plt.ylabel('RMSE')\n",
    "plt.show()"
   ]
  },
  {
   "cell_type": "markdown",
   "id": "f37a96f5",
   "metadata": {},
   "source": [
    "Above, we can see that the best k-values for the models with 2, 3, and 5 columns are all quite low (either 1 or 2). "
   ]
  },
  {
   "cell_type": "code",
   "execution_count": null,
   "id": "82fb6af3",
   "metadata": {},
   "outputs": [],
   "source": []
  }
 ],
 "metadata": {
  "kernelspec": {
   "display_name": "Python 3 (ipykernel)",
   "language": "python",
   "name": "python3"
  },
  "language_info": {
   "codemirror_mode": {
    "name": "ipython",
    "version": 3
   },
   "file_extension": ".py",
   "mimetype": "text/x-python",
   "name": "python",
   "nbconvert_exporter": "python",
   "pygments_lexer": "ipython3",
   "version": "3.9.7"
  }
 },
 "nbformat": 4,
 "nbformat_minor": 5
}
